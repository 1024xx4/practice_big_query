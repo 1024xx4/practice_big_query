{
 "cells": [
  {
   "cell_type": "code",
   "execution_count": 1,
   "metadata": {
    "collapsed": true
   },
   "outputs": [],
   "source": [
    "import pandas as pd\n",
    "import numpy as np\n",
    "import os"
   ]
  },
  {
   "cell_type": "markdown",
   "source": [
    "Generate practice data: Section 5-2 Table of join"
   ],
   "metadata": {
    "collapsed": false
   }
  },
  {
   "cell_type": "code",
   "execution_count": 2,
   "outputs": [
    {
     "data": {
      "text/plain": "  product_id qty\n1          D   3\n2          B   4\n3          C   2",
      "text/html": "<div>\n<style scoped>\n    .dataframe tbody tr th:only-of-type {\n        vertical-align: middle;\n    }\n\n    .dataframe tbody tr th {\n        vertical-align: top;\n    }\n\n    .dataframe thead th {\n        text-align: right;\n    }\n</style>\n<table border=\"1\" class=\"dataframe\">\n  <thead>\n    <tr style=\"text-align: right;\">\n      <th></th>\n      <th>product_id</th>\n      <th>qty</th>\n    </tr>\n  </thead>\n  <tbody>\n    <tr>\n      <th>1</th>\n      <td>D</td>\n      <td>3</td>\n    </tr>\n    <tr>\n      <th>2</th>\n      <td>B</td>\n      <td>4</td>\n    </tr>\n    <tr>\n      <th>3</th>\n      <td>C</td>\n      <td>2</td>\n    </tr>\n  </tbody>\n</table>\n</div>"
     },
     "execution_count": 2,
     "metadata": {},
     "output_type": "execute_result"
    }
   ],
   "source": [
    "small_sales_1 = [\n",
    "    [\"product_id\", \"qty\"],\n",
    "    [\"D\", 3],\n",
    "    [\"B\", 4],\n",
    "    [\"C\", 2],\n",
    "]\n",
    "\n",
    "df_small_sales_1 = pd.DataFrame(small_sales_1, columns=small_sales_1[0]).drop(0, axis=0)\n",
    "df_small_sales_1"
   ],
   "metadata": {
    "collapsed": false
   }
  },
  {
   "cell_type": "code",
   "execution_count": 3,
   "outputs": [
    {
     "data": {
      "text/plain": "  product_id product_name\n1          A           アジ\n2          B           サバ\n3          C           タコ",
      "text/html": "<div>\n<style scoped>\n    .dataframe tbody tr th:only-of-type {\n        vertical-align: middle;\n    }\n\n    .dataframe tbody tr th {\n        vertical-align: top;\n    }\n\n    .dataframe thead th {\n        text-align: right;\n    }\n</style>\n<table border=\"1\" class=\"dataframe\">\n  <thead>\n    <tr style=\"text-align: right;\">\n      <th></th>\n      <th>product_id</th>\n      <th>product_name</th>\n    </tr>\n  </thead>\n  <tbody>\n    <tr>\n      <th>1</th>\n      <td>A</td>\n      <td>アジ</td>\n    </tr>\n    <tr>\n      <th>2</th>\n      <td>B</td>\n      <td>サバ</td>\n    </tr>\n    <tr>\n      <th>3</th>\n      <td>C</td>\n      <td>タコ</td>\n    </tr>\n  </tbody>\n</table>\n</div>"
     },
     "execution_count": 3,
     "metadata": {},
     "output_type": "execute_result"
    }
   ],
   "source": [
    "small_master = [\n",
    "    [\"product_id\", \"product_name\"],\n",
    "    [\"A\", \"アジ\"],\n",
    "    [\"B\", \"サバ\"],\n",
    "    [\"C\", \"タコ\"]\n",
    "]\n",
    "\n",
    "df_small_master = pd.DataFrame(small_master, columns=small_master[0]).drop(0, axis=0)\n",
    "df_small_master"
   ],
   "metadata": {
    "collapsed": false
   }
  },
  {
   "cell_type": "code",
   "execution_count": 4,
   "outputs": [],
   "source": [
    "titles = [\"small_sales_1\", \"small_master\"]\n",
    "dfs = [df_small_sales_1, df_small_master]\n",
    "\n",
    "for title, df in zip(titles, dfs):\n",
    "    os.makedirs(\"data\", exist_ok=True)\n",
    "    path = f\"data/{title}.csv\"\n",
    "    df.to_csv(path, index=None)"
   ],
   "metadata": {
    "collapsed": false
   }
  },
  {
   "cell_type": "code",
   "execution_count": null,
   "outputs": [],
   "source": [],
   "metadata": {
    "collapsed": false
   }
  }
 ],
 "metadata": {
  "kernelspec": {
   "display_name": "Python 3",
   "language": "python",
   "name": "python3"
  },
  "language_info": {
   "codemirror_mode": {
    "name": "ipython",
    "version": 2
   },
   "file_extension": ".py",
   "mimetype": "text/x-python",
   "name": "python",
   "nbconvert_exporter": "python",
   "pygments_lexer": "ipython2",
   "version": "2.7.6"
  }
 },
 "nbformat": 4,
 "nbformat_minor": 0
}
