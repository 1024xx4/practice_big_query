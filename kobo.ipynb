{
 "cells": [
  {
   "cell_type": "code",
   "execution_count": 2,
   "metadata": {
    "collapsed": true
   },
   "outputs": [],
   "source": [
    "import pandas as pd\n",
    "import numpy as np\n",
    "import os\n",
    "import datetime as dt"
   ]
  },
  {
   "cell_type": "markdown",
   "source": [
    "Generate practice data: Section 5-2 Table of join"
   ],
   "metadata": {
    "collapsed": false
   }
  },
  {
   "cell_type": "code",
   "execution_count": 4,
   "outputs": [
    {
     "data": {
      "text/plain": "  product_id qty\n1          D   3\n2          B   4\n3          C   2",
      "text/html": "<div>\n<style scoped>\n    .dataframe tbody tr th:only-of-type {\n        vertical-align: middle;\n    }\n\n    .dataframe tbody tr th {\n        vertical-align: top;\n    }\n\n    .dataframe thead th {\n        text-align: right;\n    }\n</style>\n<table border=\"1\" class=\"dataframe\">\n  <thead>\n    <tr style=\"text-align: right;\">\n      <th></th>\n      <th>product_id</th>\n      <th>qty</th>\n    </tr>\n  </thead>\n  <tbody>\n    <tr>\n      <th>1</th>\n      <td>D</td>\n      <td>3</td>\n    </tr>\n    <tr>\n      <th>2</th>\n      <td>B</td>\n      <td>4</td>\n    </tr>\n    <tr>\n      <th>3</th>\n      <td>C</td>\n      <td>2</td>\n    </tr>\n  </tbody>\n</table>\n</div>"
     },
     "execution_count": 4,
     "metadata": {},
     "output_type": "execute_result"
    }
   ],
   "source": [
    "small_sales_1 = [\n",
    "    [\"product_id\", \"qty\"],\n",
    "    [\"D\", 3],\n",
    "    [\"B\", 4],\n",
    "    [\"C\", 2],\n",
    "]\n",
    "\n",
    "df_small_sales_1 = pd.DataFrame(small_sales_1, columns=small_sales_1[0]).drop(0, axis=0)\n",
    "df_small_sales_1"
   ],
   "metadata": {
    "collapsed": false
   }
  },
  {
   "cell_type": "code",
   "execution_count": 5,
   "outputs": [
    {
     "data": {
      "text/plain": "  product_id product_name\n1          A           アジ\n2          B           サバ\n3          C           タコ",
      "text/html": "<div>\n<style scoped>\n    .dataframe tbody tr th:only-of-type {\n        vertical-align: middle;\n    }\n\n    .dataframe tbody tr th {\n        vertical-align: top;\n    }\n\n    .dataframe thead th {\n        text-align: right;\n    }\n</style>\n<table border=\"1\" class=\"dataframe\">\n  <thead>\n    <tr style=\"text-align: right;\">\n      <th></th>\n      <th>product_id</th>\n      <th>product_name</th>\n    </tr>\n  </thead>\n  <tbody>\n    <tr>\n      <th>1</th>\n      <td>A</td>\n      <td>アジ</td>\n    </tr>\n    <tr>\n      <th>2</th>\n      <td>B</td>\n      <td>サバ</td>\n    </tr>\n    <tr>\n      <th>3</th>\n      <td>C</td>\n      <td>タコ</td>\n    </tr>\n  </tbody>\n</table>\n</div>"
     },
     "execution_count": 5,
     "metadata": {},
     "output_type": "execute_result"
    }
   ],
   "source": [
    "small_master = [\n",
    "    [\"product_id\", \"product_name\"],\n",
    "    [\"A\", \"アジ\"],\n",
    "    [\"B\", \"サバ\"],\n",
    "    [\"C\", \"タコ\"]\n",
    "]\n",
    "\n",
    "df_small_master = pd.DataFrame(small_master, columns=small_master[0]).drop(0, axis=0)\n",
    "df_small_master"
   ],
   "metadata": {
    "collapsed": false
   }
  },
  {
   "cell_type": "code",
   "execution_count": 6,
   "outputs": [],
   "source": [
    "titles = [\"small_sales_1\", \"small_master\"]\n",
    "dfs = [df_small_sales_1, df_small_master]\n",
    "\n",
    "for title, df in zip(titles, dfs):\n",
    "    os.makedirs(\"data\", exist_ok=True)\n",
    "    path = f\"data/{title}.csv\"\n",
    "    # df.to_csv(path, index=None)"
   ],
   "metadata": {
    "collapsed": false
   }
  },
  {
   "cell_type": "markdown",
   "source": [
    "Generate practice data: Section 5-3 Multiple condition 3 table or more join."
   ],
   "metadata": {
    "collapsed": false
   }
  },
  {
   "cell_type": "code",
   "execution_count": 7,
   "outputs": [
    {
     "data": {
      "text/plain": "   year_month product_category sales\n1  2019-01-01            Men's   134\n2  2019-01-01           Lady's   122\n3  2019-02-01            Men's   155\n4  2019-02-01           Lady's   116\n5  2019-03-01            Men's   152\n6  2019-03-01           Lady's   139",
      "text/html": "<div>\n<style scoped>\n    .dataframe tbody tr th:only-of-type {\n        vertical-align: middle;\n    }\n\n    .dataframe tbody tr th {\n        vertical-align: top;\n    }\n\n    .dataframe thead th {\n        text-align: right;\n    }\n</style>\n<table border=\"1\" class=\"dataframe\">\n  <thead>\n    <tr style=\"text-align: right;\">\n      <th></th>\n      <th>year_month</th>\n      <th>product_category</th>\n      <th>sales</th>\n    </tr>\n  </thead>\n  <tbody>\n    <tr>\n      <th>1</th>\n      <td>2019-01-01</td>\n      <td>Men's</td>\n      <td>134</td>\n    </tr>\n    <tr>\n      <th>2</th>\n      <td>2019-01-01</td>\n      <td>Lady's</td>\n      <td>122</td>\n    </tr>\n    <tr>\n      <th>3</th>\n      <td>2019-02-01</td>\n      <td>Men's</td>\n      <td>155</td>\n    </tr>\n    <tr>\n      <th>4</th>\n      <td>2019-02-01</td>\n      <td>Lady's</td>\n      <td>116</td>\n    </tr>\n    <tr>\n      <th>5</th>\n      <td>2019-03-01</td>\n      <td>Men's</td>\n      <td>152</td>\n    </tr>\n    <tr>\n      <th>6</th>\n      <td>2019-03-01</td>\n      <td>Lady's</td>\n      <td>139</td>\n    </tr>\n  </tbody>\n</table>\n</div>"
     },
     "execution_count": 7,
     "metadata": {},
     "output_type": "execute_result"
    }
   ],
   "source": [
    "small_sales_2 = [\n",
    "    [\"year_month\", \"product_category\", \"sales\"],\n",
    "    [dt.date(2019, 1, 1), \"Men's\", 134],\n",
    "    [dt.date(2019, 1, 1), \"Lady's\", 122],\n",
    "    [dt.date(2019, 2, 1), \"Men's\", 155],\n",
    "    [dt.date(2019, 2, 1), \"Lady's\", 116],\n",
    "    [dt.date(2019, 3, 1), \"Men's\", 152],\n",
    "    [dt.date(2019, 3, 1), \"Lady's\", 139]\n",
    "]\n",
    "\n",
    "df_small_sales_2 = pd.DataFrame(small_sales_2, columns=small_sales_2[0]).drop(0, axis=0)\n",
    "df_small_sales_2"
   ],
   "metadata": {
    "collapsed": false
   }
  },
  {
   "cell_type": "code",
   "execution_count": 8,
   "outputs": [
    {
     "data": {
      "text/plain": "        month category target\n1  2019-01-01    Men's    130\n2  2019-01-01   Lady's    120\n3  2019-02-01    Men's    160\n4  2019-02-01   Lady's    120\n5  2019-03-01    Men's    160\n6  2019-03-01   Lady's    130",
      "text/html": "<div>\n<style scoped>\n    .dataframe tbody tr th:only-of-type {\n        vertical-align: middle;\n    }\n\n    .dataframe tbody tr th {\n        vertical-align: top;\n    }\n\n    .dataframe thead th {\n        text-align: right;\n    }\n</style>\n<table border=\"1\" class=\"dataframe\">\n  <thead>\n    <tr style=\"text-align: right;\">\n      <th></th>\n      <th>month</th>\n      <th>category</th>\n      <th>target</th>\n    </tr>\n  </thead>\n  <tbody>\n    <tr>\n      <th>1</th>\n      <td>2019-01-01</td>\n      <td>Men's</td>\n      <td>130</td>\n    </tr>\n    <tr>\n      <th>2</th>\n      <td>2019-01-01</td>\n      <td>Lady's</td>\n      <td>120</td>\n    </tr>\n    <tr>\n      <th>3</th>\n      <td>2019-02-01</td>\n      <td>Men's</td>\n      <td>160</td>\n    </tr>\n    <tr>\n      <th>4</th>\n      <td>2019-02-01</td>\n      <td>Lady's</td>\n      <td>120</td>\n    </tr>\n    <tr>\n      <th>5</th>\n      <td>2019-03-01</td>\n      <td>Men's</td>\n      <td>160</td>\n    </tr>\n    <tr>\n      <th>6</th>\n      <td>2019-03-01</td>\n      <td>Lady's</td>\n      <td>130</td>\n    </tr>\n  </tbody>\n</table>\n</div>"
     },
     "execution_count": 8,
     "metadata": {},
     "output_type": "execute_result"
    }
   ],
   "source": [
    "small_target = [\n",
    "    [\"month\", \"category\", \"target\"],\n",
    "    [dt.date(2019, 1, 1), \"Men's\", 130],\n",
    "    [dt.date(2019, 1, 1), \"Lady's\", 120],\n",
    "    [dt.date(2019, 2, 1), \"Men's\", 160],\n",
    "    [dt.date(2019, 2, 1), \"Lady's\", 120],\n",
    "    [dt.date(2019, 3, 1), \"Men's\", 160],\n",
    "    [dt.date(2019, 3, 1), \"Lady's\", 130],\n",
    "]\n",
    "\n",
    "df_small_target = pd.DataFrame(small_target, columns=small_target[0]).drop(0, axis=0)\n",
    "df_small_target"
   ],
   "metadata": {
    "collapsed": false
   }
  },
  {
   "cell_type": "code",
   "execution_count": 9,
   "outputs": [],
   "source": [
    "titles = [\"small_sales_2\", \"small_target\"]\n",
    "dfs = [df_small_sales_2, df_small_target]\n",
    "\n",
    "for title, df in zip(titles, dfs):\n",
    "    os.makedirs(\"data\", exist_ok=True)\n",
    "    path = f\"data/{title}.csv\"\n",
    "    # df.to_csv(path, index=None)"
   ],
   "metadata": {
    "collapsed": false
   }
  },
  {
   "cell_type": "markdown",
   "source": [
    "Generate Practice-data: Section 5-3-7 Sales, Store, Product tables."
   ],
   "metadata": {
    "collapsed": false
   }
  },
  {
   "cell_type": "code",
   "execution_count": 10,
   "outputs": [
    {
     "data": {
      "text/plain": "  product_id shop_id sales\n1          1       1   134\n2          1       2   122\n3          1       3   155\n4          2       1   116\n5          2       2   152\n6          2       3   139",
      "text/html": "<div>\n<style scoped>\n    .dataframe tbody tr th:only-of-type {\n        vertical-align: middle;\n    }\n\n    .dataframe tbody tr th {\n        vertical-align: top;\n    }\n\n    .dataframe thead th {\n        text-align: right;\n    }\n</style>\n<table border=\"1\" class=\"dataframe\">\n  <thead>\n    <tr style=\"text-align: right;\">\n      <th></th>\n      <th>product_id</th>\n      <th>shop_id</th>\n      <th>sales</th>\n    </tr>\n  </thead>\n  <tbody>\n    <tr>\n      <th>1</th>\n      <td>1</td>\n      <td>1</td>\n      <td>134</td>\n    </tr>\n    <tr>\n      <th>2</th>\n      <td>1</td>\n      <td>2</td>\n      <td>122</td>\n    </tr>\n    <tr>\n      <th>3</th>\n      <td>1</td>\n      <td>3</td>\n      <td>155</td>\n    </tr>\n    <tr>\n      <th>4</th>\n      <td>2</td>\n      <td>1</td>\n      <td>116</td>\n    </tr>\n    <tr>\n      <th>5</th>\n      <td>2</td>\n      <td>2</td>\n      <td>152</td>\n    </tr>\n    <tr>\n      <th>6</th>\n      <td>2</td>\n      <td>3</td>\n      <td>139</td>\n    </tr>\n  </tbody>\n</table>\n</div>"
     },
     "execution_count": 10,
     "metadata": {},
     "output_type": "execute_result"
    }
   ],
   "source": [
    "small_sales_3 = [\n",
    "    [\"product_id\", \"shop_id\", \"sales\"],\n",
    "    [1, 1, 134],\n",
    "    [1, 2, 122],\n",
    "    [1, 3, 155],\n",
    "    [2, 1, 116],\n",
    "    [2, 2, 152],\n",
    "    [2, 3, 139],\n",
    "]\n",
    "\n",
    "df_small_sales_3 = pd.DataFrame(small_sales_3, columns=small_sales_3[0]).drop(0, axis=0)\n",
    "df_small_sales_3"
   ],
   "metadata": {
    "collapsed": false
   }
  },
  {
   "cell_type": "code",
   "execution_count": 11,
   "outputs": [
    {
     "data": {
      "text/plain": "  shop_id area_id shop_name\n1       1       1        築地\n2       2       1        銀座\n3       3       2        豊洲",
      "text/html": "<div>\n<style scoped>\n    .dataframe tbody tr th:only-of-type {\n        vertical-align: middle;\n    }\n\n    .dataframe tbody tr th {\n        vertical-align: top;\n    }\n\n    .dataframe thead th {\n        text-align: right;\n    }\n</style>\n<table border=\"1\" class=\"dataframe\">\n  <thead>\n    <tr style=\"text-align: right;\">\n      <th></th>\n      <th>shop_id</th>\n      <th>area_id</th>\n      <th>shop_name</th>\n    </tr>\n  </thead>\n  <tbody>\n    <tr>\n      <th>1</th>\n      <td>1</td>\n      <td>1</td>\n      <td>築地</td>\n    </tr>\n    <tr>\n      <th>2</th>\n      <td>2</td>\n      <td>1</td>\n      <td>銀座</td>\n    </tr>\n    <tr>\n      <th>3</th>\n      <td>3</td>\n      <td>2</td>\n      <td>豊洲</td>\n    </tr>\n  </tbody>\n</table>\n</div>"
     },
     "execution_count": 11,
     "metadata": {},
     "output_type": "execute_result"
    }
   ],
   "source": [
    "small_s_master = [\n",
    "    [\"shop_id\", \"area_id\", \"shop_name\"],\n",
    "    [1, 1, \"築地\"],\n",
    "    [2, 1, \"銀座\"],\n",
    "    [3, 2, \"豊洲\"],\n",
    "]\n",
    "\n",
    "df_s_master = pd.DataFrame(small_s_master, columns=small_s_master[0]).drop(0, axis=0)\n",
    "df_s_master"
   ],
   "metadata": {
    "collapsed": false
   }
  },
  {
   "cell_type": "code",
   "execution_count": 12,
   "outputs": [
    {
     "data": {
      "text/plain": "  product_id product_name\n1          1           アジ\n2          2           タコ",
      "text/html": "<div>\n<style scoped>\n    .dataframe tbody tr th:only-of-type {\n        vertical-align: middle;\n    }\n\n    .dataframe tbody tr th {\n        vertical-align: top;\n    }\n\n    .dataframe thead th {\n        text-align: right;\n    }\n</style>\n<table border=\"1\" class=\"dataframe\">\n  <thead>\n    <tr style=\"text-align: right;\">\n      <th></th>\n      <th>product_id</th>\n      <th>product_name</th>\n    </tr>\n  </thead>\n  <tbody>\n    <tr>\n      <th>1</th>\n      <td>1</td>\n      <td>アジ</td>\n    </tr>\n    <tr>\n      <th>2</th>\n      <td>2</td>\n      <td>タコ</td>\n    </tr>\n  </tbody>\n</table>\n</div>"
     },
     "execution_count": 12,
     "metadata": {},
     "output_type": "execute_result"
    }
   ],
   "source": [
    "small_p_master = [\n",
    "    [\"product_id\", \"product_name\"],\n",
    "    [1, \"アジ\"],\n",
    "    [2, \"タコ\"]\n",
    "]\n",
    "\n",
    "df_p_master = pd.DataFrame(small_p_master, columns=small_p_master[0]).drop(0, axis=0)\n",
    "df_p_master"
   ],
   "metadata": {
    "collapsed": false
   }
  },
  {
   "cell_type": "code",
   "execution_count": 13,
   "outputs": [],
   "source": [
    "titles = [\"small_sales_3\", \"small_s_master\", \"small_p_master\"]\n",
    "dfs = [df_small_sales_3, df_s_master, df_p_master]\n",
    "\n",
    "for title, df in zip(titles, dfs):\n",
    "    os.makedirs(\"data\", exist_ok=True)\n",
    "    path = f\"data/{title}.csv\"\n",
    "    # df.to_csv(path, index=None)"
   ],
   "metadata": {
    "collapsed": false
   }
  },
  {
   "cell_type": "markdown",
   "source": [
    "Generate practice data: SECTION 5-3-11 Sales, Store, Area tables."
   ],
   "metadata": {
    "collapsed": false
   }
  },
  {
   "cell_type": "code",
   "execution_count": 14,
   "outputs": [
    {
     "data": {
      "text/plain": "  shop_area_id area_name\n1            1       中央区\n2            2       江東区",
      "text/html": "<div>\n<style scoped>\n    .dataframe tbody tr th:only-of-type {\n        vertical-align: middle;\n    }\n\n    .dataframe tbody tr th {\n        vertical-align: top;\n    }\n\n    .dataframe thead th {\n        text-align: right;\n    }\n</style>\n<table border=\"1\" class=\"dataframe\">\n  <thead>\n    <tr style=\"text-align: right;\">\n      <th></th>\n      <th>shop_area_id</th>\n      <th>area_name</th>\n    </tr>\n  </thead>\n  <tbody>\n    <tr>\n      <th>1</th>\n      <td>1</td>\n      <td>中央区</td>\n    </tr>\n    <tr>\n      <th>2</th>\n      <td>2</td>\n      <td>江東区</td>\n    </tr>\n  </tbody>\n</table>\n</div>"
     },
     "execution_count": 14,
     "metadata": {},
     "output_type": "execute_result"
    }
   ],
   "source": [
    "small_a_master = [\n",
    "    [\"shop_area_id\", \"area_name\"],\n",
    "    [1, \"中央区\"],\n",
    "    [2, \"江東区\"]\n",
    "]\n",
    "\n",
    "df_small_a_master = pd.DataFrame(small_a_master, columns=small_a_master[0]).drop(0, axis=0)\n",
    "df_small_a_master"
   ],
   "metadata": {
    "collapsed": false
   }
  },
  {
   "cell_type": "code",
   "execution_count": 15,
   "outputs": [],
   "source": [
    "os.makedirs(\"data\", exist_ok=True)\n",
    "path = f\"data/small_a_master.csv\"\n",
    "# df_small_a_master.to_csv(path, index=None)"
   ],
   "metadata": {
    "collapsed": false
   }
  },
  {
   "cell_type": "markdown",
   "source": [
    "Generate practice data: Section 5-4-1 Annual sales count table."
   ],
   "metadata": {
    "collapsed": false
   }
  },
  {
   "cell_type": "code",
   "execution_count": 16,
   "outputs": [
    {
     "data": {
      "text/plain": "   year  qty\n1  2017  272\n2  2018  309\n3  2019  310",
      "text/html": "<div>\n<style scoped>\n    .dataframe tbody tr th:only-of-type {\n        vertical-align: middle;\n    }\n\n    .dataframe tbody tr th {\n        vertical-align: top;\n    }\n\n    .dataframe thead th {\n        text-align: right;\n    }\n</style>\n<table border=\"1\" class=\"dataframe\">\n  <thead>\n    <tr style=\"text-align: right;\">\n      <th></th>\n      <th>year</th>\n      <th>qty</th>\n    </tr>\n  </thead>\n  <tbody>\n    <tr>\n      <th>1</th>\n      <td>2017</td>\n      <td>272</td>\n    </tr>\n    <tr>\n      <th>2</th>\n      <td>2018</td>\n      <td>309</td>\n    </tr>\n    <tr>\n      <th>3</th>\n      <td>2019</td>\n      <td>310</td>\n    </tr>\n  </tbody>\n</table>\n</div>"
     },
     "metadata": {},
     "output_type": "display_data"
    }
   ],
   "source": [
    "small_year = [\n",
    "    [\"year\", \"qty\"],\n",
    "    [2017, 272],\n",
    "    [2018, 309],\n",
    "    [2019, 310],\n",
    "]\n",
    "\n",
    "df_small_year = pd.DataFrame(small_year, columns=small_year[0]).drop(0, axis=0)\n",
    "display(df_small_year)\n",
    "\n",
    "os.makedirs(\"data\", exist_ok=True)\n",
    "path = \"data/small_year.csv\"\n",
    "# df_small_year.to_csv(path, index=None)"
   ],
   "metadata": {
    "collapsed": false
   }
  },
  {
   "cell_type": "markdown",
   "source": [
    "Generate practice data: Section5-4-7 LTV, Client table."
   ],
   "metadata": {
    "collapsed": false
   }
  },
  {
   "cell_type": "code",
   "execution_count": 17,
   "outputs": [
    {
     "data": {
      "text/plain": "  user_id   ltv\n1       1  3400\n2       2  8200\n3       3  1500\n4       4  1600\n5       5  5100\n6       6  3900",
      "text/html": "<div>\n<style scoped>\n    .dataframe tbody tr th:only-of-type {\n        vertical-align: middle;\n    }\n\n    .dataframe tbody tr th {\n        vertical-align: top;\n    }\n\n    .dataframe thead th {\n        text-align: right;\n    }\n</style>\n<table border=\"1\" class=\"dataframe\">\n  <thead>\n    <tr style=\"text-align: right;\">\n      <th></th>\n      <th>user_id</th>\n      <th>ltv</th>\n    </tr>\n  </thead>\n  <tbody>\n    <tr>\n      <th>1</th>\n      <td>1</td>\n      <td>3400</td>\n    </tr>\n    <tr>\n      <th>2</th>\n      <td>2</td>\n      <td>8200</td>\n    </tr>\n    <tr>\n      <th>3</th>\n      <td>3</td>\n      <td>1500</td>\n    </tr>\n    <tr>\n      <th>4</th>\n      <td>4</td>\n      <td>1600</td>\n    </tr>\n    <tr>\n      <th>5</th>\n      <td>5</td>\n      <td>5100</td>\n    </tr>\n    <tr>\n      <th>6</th>\n      <td>6</td>\n      <td>3900</td>\n    </tr>\n  </tbody>\n</table>\n</div>"
     },
     "execution_count": 17,
     "metadata": {},
     "output_type": "execute_result"
    }
   ],
   "source": [
    "small_ltv = [\n",
    "    [\"user_id\", \"ltv\"],\n",
    "    [1, 3400],\n",
    "    [2, 8200],\n",
    "    [3, 1500],\n",
    "    [4, 1600],\n",
    "    [5, 5100],\n",
    "    [6, 3900],\n",
    "]\n",
    "\n",
    "df_small_ltv = pd.DataFrame(small_ltv, columns=small_ltv[0]).drop(0, axis=0)\n",
    "df_small_ltv"
   ],
   "metadata": {
    "collapsed": false
   }
  },
  {
   "cell_type": "code",
   "execution_count": 18,
   "outputs": [
    {
     "data": {
      "text/plain": "  user_id registration_year first_purchase_year\n1       1               NaN                2017\n2       2              2017                2017\n3       3               NaN                2018\n4       4              2017                2018\n5       5              2018                2019\n6       6              2019                2019",
      "text/html": "<div>\n<style scoped>\n    .dataframe tbody tr th:only-of-type {\n        vertical-align: middle;\n    }\n\n    .dataframe tbody tr th {\n        vertical-align: top;\n    }\n\n    .dataframe thead th {\n        text-align: right;\n    }\n</style>\n<table border=\"1\" class=\"dataframe\">\n  <thead>\n    <tr style=\"text-align: right;\">\n      <th></th>\n      <th>user_id</th>\n      <th>registration_year</th>\n      <th>first_purchase_year</th>\n    </tr>\n  </thead>\n  <tbody>\n    <tr>\n      <th>1</th>\n      <td>1</td>\n      <td>NaN</td>\n      <td>2017</td>\n    </tr>\n    <tr>\n      <th>2</th>\n      <td>2</td>\n      <td>2017</td>\n      <td>2017</td>\n    </tr>\n    <tr>\n      <th>3</th>\n      <td>3</td>\n      <td>NaN</td>\n      <td>2018</td>\n    </tr>\n    <tr>\n      <th>4</th>\n      <td>4</td>\n      <td>2017</td>\n      <td>2018</td>\n    </tr>\n    <tr>\n      <th>5</th>\n      <td>5</td>\n      <td>2018</td>\n      <td>2019</td>\n    </tr>\n    <tr>\n      <th>6</th>\n      <td>6</td>\n      <td>2019</td>\n      <td>2019</td>\n    </tr>\n  </tbody>\n</table>\n</div>"
     },
     "execution_count": 18,
     "metadata": {},
     "output_type": "execute_result"
    }
   ],
   "source": [
    "small_customers = [\n",
    "    [\"user_id\", \"registration_year\", \"first_purchase_year\"],\n",
    "    [1, np.nan, 2017],\n",
    "    [2, 2017, 2017],\n",
    "    [3, np.nan, 2018],\n",
    "    [4, 2017, 2018],\n",
    "    [5, 2018, 2019],\n",
    "    [6, 2019, 2019],\n",
    "]\n",
    "\n",
    "df_small_customers = pd.DataFrame(small_customers, columns=small_customers[0]).drop(0, axis=0)\n",
    "df_small_customers"
   ],
   "metadata": {
    "collapsed": false
   }
  },
  {
   "cell_type": "code",
   "execution_count": 19,
   "outputs": [],
   "source": [
    "titles = [\"small_ltv\", \"small_customers\"]\n",
    "dfs = [df_small_ltv, df_small_customers]\n",
    "\n",
    "for title, df in zip(titles, dfs):\n",
    "    os.makedirs(\"data\", exist_ok=True)\n",
    "    path = f\"data/{title}.csv\"\n",
    "    # df.to_csv(path, index=None)"
   ],
   "metadata": {
    "collapsed": false
   }
  },
  {
   "cell_type": "markdown",
   "source": [
    "Generate practice data: Section 5-4-10 Small Order."
   ],
   "metadata": {
    "collapsed": false
   }
  },
  {
   "cell_type": "code",
   "execution_count": 20,
   "outputs": [
    {
     "data": {
      "text/plain": "  order_id product_name\n1        1           アジ\n2        1           サバ\n3        1           タコ\n4        2           キス\n5        2           タコ\n6        3           アジ\n7        3           タコ",
      "text/html": "<div>\n<style scoped>\n    .dataframe tbody tr th:only-of-type {\n        vertical-align: middle;\n    }\n\n    .dataframe tbody tr th {\n        vertical-align: top;\n    }\n\n    .dataframe thead th {\n        text-align: right;\n    }\n</style>\n<table border=\"1\" class=\"dataframe\">\n  <thead>\n    <tr style=\"text-align: right;\">\n      <th></th>\n      <th>order_id</th>\n      <th>product_name</th>\n    </tr>\n  </thead>\n  <tbody>\n    <tr>\n      <th>1</th>\n      <td>1</td>\n      <td>アジ</td>\n    </tr>\n    <tr>\n      <th>2</th>\n      <td>1</td>\n      <td>サバ</td>\n    </tr>\n    <tr>\n      <th>3</th>\n      <td>1</td>\n      <td>タコ</td>\n    </tr>\n    <tr>\n      <th>4</th>\n      <td>2</td>\n      <td>キス</td>\n    </tr>\n    <tr>\n      <th>5</th>\n      <td>2</td>\n      <td>タコ</td>\n    </tr>\n    <tr>\n      <th>6</th>\n      <td>3</td>\n      <td>アジ</td>\n    </tr>\n    <tr>\n      <th>7</th>\n      <td>3</td>\n      <td>タコ</td>\n    </tr>\n  </tbody>\n</table>\n</div>"
     },
     "execution_count": 20,
     "metadata": {},
     "output_type": "execute_result"
    }
   ],
   "source": [
    "small_order = [\n",
    "    [\"order_id\", \"product_name\"],\n",
    "    [1, \"アジ\"],\n",
    "    [1, \"サバ\"],\n",
    "    [1, \"タコ\"],\n",
    "    [2, \"キス\"],\n",
    "    [2, \"タコ\"],\n",
    "    [3, \"アジ\"],\n",
    "    [3, \"タコ\"],\n",
    "]\n",
    "\n",
    "df_small_order = pd.DataFrame(small_order, columns=small_order[0]).drop(0, axis=0)\n",
    "df_small_order"
   ],
   "metadata": {
    "collapsed": false
   }
  },
  {
   "cell_type": "code",
   "execution_count": 21,
   "outputs": [],
   "source": [
    "os.makedirs(\"data\", exist_ok=True)\n",
    "path = \"data/small_order.csv\"\n",
    "# df_small_order.to_csv(path, index=None)"
   ],
   "metadata": {
    "collapsed": false
   }
  },
  {
   "cell_type": "markdown",
   "source": [
    "Generate practice: Section 5-5-6 Jan, Feb tables"
   ],
   "metadata": {
    "collapsed": false
   }
  },
  {
   "cell_type": "code",
   "execution_count": 22,
   "outputs": [
    {
     "data": {
      "text/plain": "         date product_name qty\n1  2020-01-10           アジ   3\n2  2020-01-11           タコ   1\n3  2020-01-15           サバ   3\n4  2020-01-18           キス   2\n5  2020-01-20           タイ   1",
      "text/html": "<div>\n<style scoped>\n    .dataframe tbody tr th:only-of-type {\n        vertical-align: middle;\n    }\n\n    .dataframe tbody tr th {\n        vertical-align: top;\n    }\n\n    .dataframe thead th {\n        text-align: right;\n    }\n</style>\n<table border=\"1\" class=\"dataframe\">\n  <thead>\n    <tr style=\"text-align: right;\">\n      <th></th>\n      <th>date</th>\n      <th>product_name</th>\n      <th>qty</th>\n    </tr>\n  </thead>\n  <tbody>\n    <tr>\n      <th>1</th>\n      <td>2020-01-10</td>\n      <td>アジ</td>\n      <td>3</td>\n    </tr>\n    <tr>\n      <th>2</th>\n      <td>2020-01-11</td>\n      <td>タコ</td>\n      <td>1</td>\n    </tr>\n    <tr>\n      <th>3</th>\n      <td>2020-01-15</td>\n      <td>サバ</td>\n      <td>3</td>\n    </tr>\n    <tr>\n      <th>4</th>\n      <td>2020-01-18</td>\n      <td>キス</td>\n      <td>2</td>\n    </tr>\n    <tr>\n      <th>5</th>\n      <td>2020-01-20</td>\n      <td>タイ</td>\n      <td>1</td>\n    </tr>\n  </tbody>\n</table>\n</div>"
     },
     "execution_count": 22,
     "metadata": {},
     "output_type": "execute_result"
    }
   ],
   "source": [
    "small_jan = [\n",
    "    [\"date\", \"product_name\", \"qty\"],\n",
    "    [dt.date(2020, 1, 10), \"アジ\", 3],\n",
    "    [dt.date(2020, 1, 11), \"タコ\", 1],\n",
    "    [dt.date(2020, 1, 15), \"サバ\", 3],\n",
    "    [dt.date(2020, 1, 18), \"キス\", 2],\n",
    "    [dt.date(2020, 1, 20), \"タイ\", 1],\n",
    "]\n",
    "\n",
    "df_small_jan = pd.DataFrame(small_jan, columns=small_jan[0]).drop(0, axis=0)\n",
    "df_small_jan"
   ],
   "metadata": {
    "collapsed": false
   }
  },
  {
   "cell_type": "code",
   "execution_count": 23,
   "outputs": [
    {
     "data": {
      "text/plain": "         date product_name qty\n1  2020-02-09           アジ   3\n2  2020-02-12           ブリ   3\n3  2020-02-15           キス   3\n4  2020-02-19           タイ   2\n5  2020-02-28           イカ   1",
      "text/html": "<div>\n<style scoped>\n    .dataframe tbody tr th:only-of-type {\n        vertical-align: middle;\n    }\n\n    .dataframe tbody tr th {\n        vertical-align: top;\n    }\n\n    .dataframe thead th {\n        text-align: right;\n    }\n</style>\n<table border=\"1\" class=\"dataframe\">\n  <thead>\n    <tr style=\"text-align: right;\">\n      <th></th>\n      <th>date</th>\n      <th>product_name</th>\n      <th>qty</th>\n    </tr>\n  </thead>\n  <tbody>\n    <tr>\n      <th>1</th>\n      <td>2020-02-09</td>\n      <td>アジ</td>\n      <td>3</td>\n    </tr>\n    <tr>\n      <th>2</th>\n      <td>2020-02-12</td>\n      <td>ブリ</td>\n      <td>3</td>\n    </tr>\n    <tr>\n      <th>3</th>\n      <td>2020-02-15</td>\n      <td>キス</td>\n      <td>3</td>\n    </tr>\n    <tr>\n      <th>4</th>\n      <td>2020-02-19</td>\n      <td>タイ</td>\n      <td>2</td>\n    </tr>\n    <tr>\n      <th>5</th>\n      <td>2020-02-28</td>\n      <td>イカ</td>\n      <td>1</td>\n    </tr>\n  </tbody>\n</table>\n</div>"
     },
     "execution_count": 23,
     "metadata": {},
     "output_type": "execute_result"
    }
   ],
   "source": [
    "small_feb = [\n",
    "    [\"date\", \"product_name\", \"qty\"],\n",
    "    [dt.date(2020, 2, 9), \"アジ\", 3],\n",
    "    [dt.date(2020, 2, 12), \"ブリ\", 3],\n",
    "    [dt.date(2020, 2, 15), \"キス\", 3],\n",
    "    [dt.date(2020, 2, 19), \"タイ\", 2],\n",
    "    [dt.date(2020, 2, 28), \"イカ\", 1],\n",
    "]\n",
    "df_small_feb = pd.DataFrame(small_feb, columns=small_feb[0]).drop(0, axis=0)\n",
    "df_small_feb"
   ],
   "metadata": {
    "collapsed": false
   }
  },
  {
   "cell_type": "code",
   "execution_count": 24,
   "outputs": [],
   "source": [
    "titles = [\"small_jan\", \"small_feb\"]\n",
    "dfs = [df_small_jan, df_small_feb]\n",
    "for title, df in zip(titles, dfs):\n",
    "    os.makedirs(\"data\", exist_ok=True)\n",
    "    path = f\"data/{title}.csv\"\n",
    "    df.to_csv(path, index=0)"
   ],
   "metadata": {
    "collapsed": false
   }
  },
  {
   "cell_type": "markdown",
   "source": [
    "Generate practice data: 5-5-20, Jan, Feb, March sales tables."
   ],
   "metadata": {
    "collapsed": false
   }
  },
  {
   "cell_type": "code",
   "execution_count": 25,
   "outputs": [
    {
     "data": {
      "text/plain": "         date product_name qty\n1  2020-01-10           アジ   3\n2  2020-01-11           タコ   1\n3  2020-01-15           サバ   3\n4  2020-01-18           キス   2\n5  2020-01-20           タイ   1",
      "text/html": "<div>\n<style scoped>\n    .dataframe tbody tr th:only-of-type {\n        vertical-align: middle;\n    }\n\n    .dataframe tbody tr th {\n        vertical-align: top;\n    }\n\n    .dataframe thead th {\n        text-align: right;\n    }\n</style>\n<table border=\"1\" class=\"dataframe\">\n  <thead>\n    <tr style=\"text-align: right;\">\n      <th></th>\n      <th>date</th>\n      <th>product_name</th>\n      <th>qty</th>\n    </tr>\n  </thead>\n  <tbody>\n    <tr>\n      <th>1</th>\n      <td>2020-01-10</td>\n      <td>アジ</td>\n      <td>3</td>\n    </tr>\n    <tr>\n      <th>2</th>\n      <td>2020-01-11</td>\n      <td>タコ</td>\n      <td>1</td>\n    </tr>\n    <tr>\n      <th>3</th>\n      <td>2020-01-15</td>\n      <td>サバ</td>\n      <td>3</td>\n    </tr>\n    <tr>\n      <th>4</th>\n      <td>2020-01-18</td>\n      <td>キス</td>\n      <td>2</td>\n    </tr>\n    <tr>\n      <th>5</th>\n      <td>2020-01-20</td>\n      <td>タイ</td>\n      <td>1</td>\n    </tr>\n  </tbody>\n</table>\n</div>"
     },
     "execution_count": 25,
     "metadata": {},
     "output_type": "execute_result"
    }
   ],
   "source": [
    "df_small_jan"
   ],
   "metadata": {
    "collapsed": false
   }
  },
  {
   "cell_type": "code",
   "execution_count": 26,
   "outputs": [
    {
     "data": {
      "text/plain": "         date product_name qty\n1  2020-02-09           アジ   3\n2  2020-02-12           ブリ   3\n3  2020-02-15           キス   3\n4  2020-02-19           タイ   2\n5  2020-02-28           イカ   1",
      "text/html": "<div>\n<style scoped>\n    .dataframe tbody tr th:only-of-type {\n        vertical-align: middle;\n    }\n\n    .dataframe tbody tr th {\n        vertical-align: top;\n    }\n\n    .dataframe thead th {\n        text-align: right;\n    }\n</style>\n<table border=\"1\" class=\"dataframe\">\n  <thead>\n    <tr style=\"text-align: right;\">\n      <th></th>\n      <th>date</th>\n      <th>product_name</th>\n      <th>qty</th>\n    </tr>\n  </thead>\n  <tbody>\n    <tr>\n      <th>1</th>\n      <td>2020-02-09</td>\n      <td>アジ</td>\n      <td>3</td>\n    </tr>\n    <tr>\n      <th>2</th>\n      <td>2020-02-12</td>\n      <td>ブリ</td>\n      <td>3</td>\n    </tr>\n    <tr>\n      <th>3</th>\n      <td>2020-02-15</td>\n      <td>キス</td>\n      <td>3</td>\n    </tr>\n    <tr>\n      <th>4</th>\n      <td>2020-02-19</td>\n      <td>タイ</td>\n      <td>2</td>\n    </tr>\n    <tr>\n      <th>5</th>\n      <td>2020-02-28</td>\n      <td>イカ</td>\n      <td>1</td>\n    </tr>\n  </tbody>\n</table>\n</div>"
     },
     "execution_count": 26,
     "metadata": {},
     "output_type": "execute_result"
    }
   ],
   "source": [
    "df_small_feb"
   ],
   "metadata": {
    "collapsed": false
   }
  },
  {
   "cell_type": "code",
   "execution_count": 27,
   "outputs": [
    {
     "data": {
      "text/plain": "         date product_name qty\n1  2020-03-01           アジ   1\n2  2020-03-03           エビ   3\n3  2020-03-16           サバ   2\n4  2020-03-19           タイ   2\n5  2020-03-22           タコ   1",
      "text/html": "<div>\n<style scoped>\n    .dataframe tbody tr th:only-of-type {\n        vertical-align: middle;\n    }\n\n    .dataframe tbody tr th {\n        vertical-align: top;\n    }\n\n    .dataframe thead th {\n        text-align: right;\n    }\n</style>\n<table border=\"1\" class=\"dataframe\">\n  <thead>\n    <tr style=\"text-align: right;\">\n      <th></th>\n      <th>date</th>\n      <th>product_name</th>\n      <th>qty</th>\n    </tr>\n  </thead>\n  <tbody>\n    <tr>\n      <th>1</th>\n      <td>2020-03-01</td>\n      <td>アジ</td>\n      <td>1</td>\n    </tr>\n    <tr>\n      <th>2</th>\n      <td>2020-03-03</td>\n      <td>エビ</td>\n      <td>3</td>\n    </tr>\n    <tr>\n      <th>3</th>\n      <td>2020-03-16</td>\n      <td>サバ</td>\n      <td>2</td>\n    </tr>\n    <tr>\n      <th>4</th>\n      <td>2020-03-19</td>\n      <td>タイ</td>\n      <td>2</td>\n    </tr>\n    <tr>\n      <th>5</th>\n      <td>2020-03-22</td>\n      <td>タコ</td>\n      <td>1</td>\n    </tr>\n  </tbody>\n</table>\n</div>"
     },
     "execution_count": 27,
     "metadata": {},
     "output_type": "execute_result"
    }
   ],
   "source": [
    "small_mar = [\n",
    "    [\"date\", \"product_name\", \"qty\"],\n",
    "    [dt.date(2020, 3, 1), \"アジ\", 1],\n",
    "    [dt.date(2020, 3, 3), \"エビ\", 3],\n",
    "    [dt.date(2020, 3, 16), \"サバ\", 2],\n",
    "    [dt.date(2020, 3, 19), \"タイ\", 2],\n",
    "    [dt.date(2020, 3, 22), \"タコ\", 1],\n",
    "]\n",
    "df_small_mar = pd.DataFrame(small_mar, columns=small_mar[0]).drop(0, axis=0)\n",
    "df_small_mar"
   ],
   "metadata": {
    "collapsed": false
   }
  },
  {
   "cell_type": "code",
   "execution_count": 28,
   "outputs": [],
   "source": [
    "os.makedirs(\"data\", exist_ok=True)\n",
    "path = \"data/small_mar.csv\"\n",
    "# df_small_mar.to_csv(path, index=None)"
   ],
   "metadata": {
    "collapsed": false
   }
  },
  {
   "cell_type": "markdown",
   "source": [
    "Generate practice data: 6-1-4 Minimum wage by 3 annual prefectures"
   ],
   "metadata": {
    "collapsed": false
   }
  },
  {
   "cell_type": "code",
   "execution_count": 2,
   "outputs": [
    {
     "data": {
      "text/plain": "  pref year min_wage\n1   東京  H29      958\n2   東京  H30      985\n3   東京   R1     1013\n4  北海道  H29      810\n5  北海道  H30      835\n6  北海道   R1      861\n7   千葉  H29      868\n8   千葉  H30      895\n9   千葉   R1      923",
      "text/html": "<div>\n<style scoped>\n    .dataframe tbody tr th:only-of-type {\n        vertical-align: middle;\n    }\n\n    .dataframe tbody tr th {\n        vertical-align: top;\n    }\n\n    .dataframe thead th {\n        text-align: right;\n    }\n</style>\n<table border=\"1\" class=\"dataframe\">\n  <thead>\n    <tr style=\"text-align: right;\">\n      <th></th>\n      <th>pref</th>\n      <th>year</th>\n      <th>min_wage</th>\n    </tr>\n  </thead>\n  <tbody>\n    <tr>\n      <th>1</th>\n      <td>東京</td>\n      <td>H29</td>\n      <td>958</td>\n    </tr>\n    <tr>\n      <th>2</th>\n      <td>東京</td>\n      <td>H30</td>\n      <td>985</td>\n    </tr>\n    <tr>\n      <th>3</th>\n      <td>東京</td>\n      <td>R1</td>\n      <td>1013</td>\n    </tr>\n    <tr>\n      <th>4</th>\n      <td>北海道</td>\n      <td>H29</td>\n      <td>810</td>\n    </tr>\n    <tr>\n      <th>5</th>\n      <td>北海道</td>\n      <td>H30</td>\n      <td>835</td>\n    </tr>\n    <tr>\n      <th>6</th>\n      <td>北海道</td>\n      <td>R1</td>\n      <td>861</td>\n    </tr>\n    <tr>\n      <th>7</th>\n      <td>千葉</td>\n      <td>H29</td>\n      <td>868</td>\n    </tr>\n    <tr>\n      <th>8</th>\n      <td>千葉</td>\n      <td>H30</td>\n      <td>895</td>\n    </tr>\n    <tr>\n      <th>9</th>\n      <td>千葉</td>\n      <td>R1</td>\n      <td>923</td>\n    </tr>\n  </tbody>\n</table>\n</div>"
     },
     "execution_count": 2,
     "metadata": {},
     "output_type": "execute_result"
    }
   ],
   "source": [
    "small_wage = [\n",
    "    [\"pref\", \"year\", \"min_wage\"],\n",
    "    [\"東京\", \"H29\", 958],\n",
    "    [\"東京\", \"H30\", 985],\n",
    "    [\"東京\", \"R1\", 1013],\n",
    "    [\"北海道\", \"H29\", 810],\n",
    "    [\"北海道\", \"H30\", 835],\n",
    "    [\"北海道\", \"R1\", 861],\n",
    "    [\"千葉\", \"H29\", 868],\n",
    "    [\"千葉\", \"H30\", 895],\n",
    "    [\"千葉\", \"R1\", 923],\n",
    "]\n",
    "df_small_wage = pd.DataFrame(small_wage, columns=small_wage[0]).drop(0, axis=0)\n",
    "df_small_wage"
   ],
   "metadata": {
    "collapsed": false
   }
  },
  {
   "cell_type": "code",
   "execution_count": 3,
   "outputs": [],
   "source": [
    "os.makedirs(\"data\", exist_ok=True)\n",
    "path = f\"data/small_wage.csv\"\n",
    "df_small_wage.to_csv(path, index=None)"
   ],
   "metadata": {
    "collapsed": false
   }
  },
  {
   "cell_type": "code",
   "execution_count": 5,
   "outputs": [
    {
     "data": {
      "text/plain": "   pref min_wage\n1   北海道      861\n2    青森      790\n3    岩手      790\n4    宮城      824\n5    秋田      790\n6    山形      790\n7    福島      798\n8    茨城      849\n9    栃木      853\n10   群馬      835\n11   埼玉      926\n12   千葉      923\n13   東京     1013\n14  神奈川     1011\n15   新潟      830\n16   富山      848\n17   石川      832\n18   福井      829\n19   山梨      837\n20   長野      848\n21   岐阜      851\n22   静岡      885\n23   愛知      926\n24   三重      873\n25   滋賀      866\n26   京都      909\n27   大阪      964\n28   兵庫      899\n29   奈良      837\n30  和歌山      830\n31   鳥取      790\n32   島根      790\n33   岡山      833\n34   広島      871\n35   山口      829\n36   徳島      793\n37   香川      818\n38   愛媛      790\n39   高知      790\n40   福岡      841\n41   佐賀      790\n42   長崎      790\n43   熊本      790\n44   大分      790\n45   宮崎      790\n46  鹿児島      790\n47   沖縄      790",
      "text/html": "<div>\n<style scoped>\n    .dataframe tbody tr th:only-of-type {\n        vertical-align: middle;\n    }\n\n    .dataframe tbody tr th {\n        vertical-align: top;\n    }\n\n    .dataframe thead th {\n        text-align: right;\n    }\n</style>\n<table border=\"1\" class=\"dataframe\">\n  <thead>\n    <tr style=\"text-align: right;\">\n      <th></th>\n      <th>pref</th>\n      <th>min_wage</th>\n    </tr>\n  </thead>\n  <tbody>\n    <tr>\n      <th>1</th>\n      <td>北海道</td>\n      <td>861</td>\n    </tr>\n    <tr>\n      <th>2</th>\n      <td>青森</td>\n      <td>790</td>\n    </tr>\n    <tr>\n      <th>3</th>\n      <td>岩手</td>\n      <td>790</td>\n    </tr>\n    <tr>\n      <th>4</th>\n      <td>宮城</td>\n      <td>824</td>\n    </tr>\n    <tr>\n      <th>5</th>\n      <td>秋田</td>\n      <td>790</td>\n    </tr>\n    <tr>\n      <th>6</th>\n      <td>山形</td>\n      <td>790</td>\n    </tr>\n    <tr>\n      <th>7</th>\n      <td>福島</td>\n      <td>798</td>\n    </tr>\n    <tr>\n      <th>8</th>\n      <td>茨城</td>\n      <td>849</td>\n    </tr>\n    <tr>\n      <th>9</th>\n      <td>栃木</td>\n      <td>853</td>\n    </tr>\n    <tr>\n      <th>10</th>\n      <td>群馬</td>\n      <td>835</td>\n    </tr>\n    <tr>\n      <th>11</th>\n      <td>埼玉</td>\n      <td>926</td>\n    </tr>\n    <tr>\n      <th>12</th>\n      <td>千葉</td>\n      <td>923</td>\n    </tr>\n    <tr>\n      <th>13</th>\n      <td>東京</td>\n      <td>1013</td>\n    </tr>\n    <tr>\n      <th>14</th>\n      <td>神奈川</td>\n      <td>1011</td>\n    </tr>\n    <tr>\n      <th>15</th>\n      <td>新潟</td>\n      <td>830</td>\n    </tr>\n    <tr>\n      <th>16</th>\n      <td>富山</td>\n      <td>848</td>\n    </tr>\n    <tr>\n      <th>17</th>\n      <td>石川</td>\n      <td>832</td>\n    </tr>\n    <tr>\n      <th>18</th>\n      <td>福井</td>\n      <td>829</td>\n    </tr>\n    <tr>\n      <th>19</th>\n      <td>山梨</td>\n      <td>837</td>\n    </tr>\n    <tr>\n      <th>20</th>\n      <td>長野</td>\n      <td>848</td>\n    </tr>\n    <tr>\n      <th>21</th>\n      <td>岐阜</td>\n      <td>851</td>\n    </tr>\n    <tr>\n      <th>22</th>\n      <td>静岡</td>\n      <td>885</td>\n    </tr>\n    <tr>\n      <th>23</th>\n      <td>愛知</td>\n      <td>926</td>\n    </tr>\n    <tr>\n      <th>24</th>\n      <td>三重</td>\n      <td>873</td>\n    </tr>\n    <tr>\n      <th>25</th>\n      <td>滋賀</td>\n      <td>866</td>\n    </tr>\n    <tr>\n      <th>26</th>\n      <td>京都</td>\n      <td>909</td>\n    </tr>\n    <tr>\n      <th>27</th>\n      <td>大阪</td>\n      <td>964</td>\n    </tr>\n    <tr>\n      <th>28</th>\n      <td>兵庫</td>\n      <td>899</td>\n    </tr>\n    <tr>\n      <th>29</th>\n      <td>奈良</td>\n      <td>837</td>\n    </tr>\n    <tr>\n      <th>30</th>\n      <td>和歌山</td>\n      <td>830</td>\n    </tr>\n    <tr>\n      <th>31</th>\n      <td>鳥取</td>\n      <td>790</td>\n    </tr>\n    <tr>\n      <th>32</th>\n      <td>島根</td>\n      <td>790</td>\n    </tr>\n    <tr>\n      <th>33</th>\n      <td>岡山</td>\n      <td>833</td>\n    </tr>\n    <tr>\n      <th>34</th>\n      <td>広島</td>\n      <td>871</td>\n    </tr>\n    <tr>\n      <th>35</th>\n      <td>山口</td>\n      <td>829</td>\n    </tr>\n    <tr>\n      <th>36</th>\n      <td>徳島</td>\n      <td>793</td>\n    </tr>\n    <tr>\n      <th>37</th>\n      <td>香川</td>\n      <td>818</td>\n    </tr>\n    <tr>\n      <th>38</th>\n      <td>愛媛</td>\n      <td>790</td>\n    </tr>\n    <tr>\n      <th>39</th>\n      <td>高知</td>\n      <td>790</td>\n    </tr>\n    <tr>\n      <th>40</th>\n      <td>福岡</td>\n      <td>841</td>\n    </tr>\n    <tr>\n      <th>41</th>\n      <td>佐賀</td>\n      <td>790</td>\n    </tr>\n    <tr>\n      <th>42</th>\n      <td>長崎</td>\n      <td>790</td>\n    </tr>\n    <tr>\n      <th>43</th>\n      <td>熊本</td>\n      <td>790</td>\n    </tr>\n    <tr>\n      <th>44</th>\n      <td>大分</td>\n      <td>790</td>\n    </tr>\n    <tr>\n      <th>45</th>\n      <td>宮崎</td>\n      <td>790</td>\n    </tr>\n    <tr>\n      <th>46</th>\n      <td>鹿児島</td>\n      <td>790</td>\n    </tr>\n    <tr>\n      <th>47</th>\n      <td>沖縄</td>\n      <td>790</td>\n    </tr>\n  </tbody>\n</table>\n</div>"
     },
     "execution_count": 5,
     "metadata": {},
     "output_type": "execute_result"
    }
   ],
   "source": [
    "small_wage_reiwa1 = [\n",
    "    [\"pref\", \"min_wage\"],\n",
    "    [\"北海道\", 861],\n",
    "    [\"青森\", 790],\n",
    "    [\"岩手\", 790],\n",
    "    [\"宮城\", 824],\n",
    "    [\"秋田\", 790],\n",
    "    [\"山形\", 790],\n",
    "    [\"福島\", 798],\n",
    "    [\"茨城\", 849],\n",
    "    [\"栃木\", 853],\n",
    "    [\"群馬\", 835],\n",
    "    [\"埼玉\", 926],\n",
    "    [\"千葉\", 923],\n",
    "    [\"東京\", 1013],\n",
    "    [\"神奈川\", 1011],\n",
    "    [\"新潟\", 830],\n",
    "    [\"富山\", 848],\n",
    "    [\"石川\", 832],\n",
    "    [\"福井\", 829],\n",
    "    [\"山梨\", 837],\n",
    "    [\"長野\", 848],\n",
    "    [\"岐阜\", 851],\n",
    "    [\"静岡\", 885],\n",
    "    [\"愛知\", 926],\n",
    "    [\"三重\", 873],\n",
    "    [\"滋賀\", 866],\n",
    "    [\"京都\", 909],\n",
    "    [\"大阪\", 964],\n",
    "    [\"兵庫\", 899],\n",
    "    [\"奈良\", 837],\n",
    "    [\"和歌山\", 830],\n",
    "    [\"鳥取\", 790],\n",
    "    [\"島根\", 790],\n",
    "    [\"岡山\", 833],\n",
    "    [\"広島\", 871],\n",
    "    [\"山口\", 829],\n",
    "    [\"徳島\", 793],\n",
    "    [\"香川\", 818],\n",
    "    [\"愛媛\", 790],\n",
    "    [\"高知\", 790],\n",
    "    [\"福岡\", 841],\n",
    "    [\"佐賀\", 790],\n",
    "    [\"長崎\", 790],\n",
    "    [\"熊本\", 790],\n",
    "    [\"大分\", 790],\n",
    "    [\"宮崎\", 790],\n",
    "    [\"鹿児島\", 790],\n",
    "    [\"沖縄\", 790],\n",
    "]\n",
    "\n",
    "df_small_wage_reiwa1 = pd.DataFrame(small_wage_reiwa1, columns=small_wage_reiwa1[0]).drop(0, axis=0)\n",
    "df_small_wage_reiwa1"
   ],
   "metadata": {
    "collapsed": false
   }
  },
  {
   "cell_type": "markdown",
   "source": [
    "Generate practice file: 6-1-17"
   ],
   "metadata": {
    "collapsed": false
   }
  },
  {
   "cell_type": "code",
   "execution_count": 7,
   "outputs": [
    {
     "data": {
      "text/plain": "    pref_id pref min_wage\n0         1  北海道      861\n1         2   青森      790\n2         3   岩手      790\n3         4   宮城      824\n4         5   秋田      790\n5         6   山形      790\n6         7   福島      798\n7         8   茨城      849\n8         9   栃木      853\n9        10   群馬      835\n10       11   埼玉      926\n11       12   千葉      923\n12       13   東京     1013\n13       14  神奈川     1011\n14       15   新潟      830\n15       16   富山      848\n16       17   石川      832\n17       18   福井      829\n18       19   山梨      837\n19       20   長野      848\n20       21   岐阜      851\n21       22   静岡      885\n22       23   愛知      926\n23       24   三重      873\n24       25   滋賀      866\n25       26   京都      909\n26       27   大阪      964\n27       28   兵庫      899\n28       29   奈良      837\n29       30  和歌山      830\n30       31   鳥取      790\n31       32   島根      790\n32       33   岡山      833\n33       34   広島      871\n34       35   山口      829\n35       36   徳島      793\n36       37   香川      818\n37       38   愛媛      790\n38       39   高知      790\n39       40   福岡      841\n40       41   佐賀      790\n41       42   長崎      790\n42       43   熊本      790\n43       44   大分      790\n44       45   宮崎      790\n45       46  鹿児島      790\n46       47   沖縄      790",
      "text/html": "<div>\n<style scoped>\n    .dataframe tbody tr th:only-of-type {\n        vertical-align: middle;\n    }\n\n    .dataframe tbody tr th {\n        vertical-align: top;\n    }\n\n    .dataframe thead th {\n        text-align: right;\n    }\n</style>\n<table border=\"1\" class=\"dataframe\">\n  <thead>\n    <tr style=\"text-align: right;\">\n      <th></th>\n      <th>pref_id</th>\n      <th>pref</th>\n      <th>min_wage</th>\n    </tr>\n  </thead>\n  <tbody>\n    <tr>\n      <th>0</th>\n      <td>1</td>\n      <td>北海道</td>\n      <td>861</td>\n    </tr>\n    <tr>\n      <th>1</th>\n      <td>2</td>\n      <td>青森</td>\n      <td>790</td>\n    </tr>\n    <tr>\n      <th>2</th>\n      <td>3</td>\n      <td>岩手</td>\n      <td>790</td>\n    </tr>\n    <tr>\n      <th>3</th>\n      <td>4</td>\n      <td>宮城</td>\n      <td>824</td>\n    </tr>\n    <tr>\n      <th>4</th>\n      <td>5</td>\n      <td>秋田</td>\n      <td>790</td>\n    </tr>\n    <tr>\n      <th>5</th>\n      <td>6</td>\n      <td>山形</td>\n      <td>790</td>\n    </tr>\n    <tr>\n      <th>6</th>\n      <td>7</td>\n      <td>福島</td>\n      <td>798</td>\n    </tr>\n    <tr>\n      <th>7</th>\n      <td>8</td>\n      <td>茨城</td>\n      <td>849</td>\n    </tr>\n    <tr>\n      <th>8</th>\n      <td>9</td>\n      <td>栃木</td>\n      <td>853</td>\n    </tr>\n    <tr>\n      <th>9</th>\n      <td>10</td>\n      <td>群馬</td>\n      <td>835</td>\n    </tr>\n    <tr>\n      <th>10</th>\n      <td>11</td>\n      <td>埼玉</td>\n      <td>926</td>\n    </tr>\n    <tr>\n      <th>11</th>\n      <td>12</td>\n      <td>千葉</td>\n      <td>923</td>\n    </tr>\n    <tr>\n      <th>12</th>\n      <td>13</td>\n      <td>東京</td>\n      <td>1013</td>\n    </tr>\n    <tr>\n      <th>13</th>\n      <td>14</td>\n      <td>神奈川</td>\n      <td>1011</td>\n    </tr>\n    <tr>\n      <th>14</th>\n      <td>15</td>\n      <td>新潟</td>\n      <td>830</td>\n    </tr>\n    <tr>\n      <th>15</th>\n      <td>16</td>\n      <td>富山</td>\n      <td>848</td>\n    </tr>\n    <tr>\n      <th>16</th>\n      <td>17</td>\n      <td>石川</td>\n      <td>832</td>\n    </tr>\n    <tr>\n      <th>17</th>\n      <td>18</td>\n      <td>福井</td>\n      <td>829</td>\n    </tr>\n    <tr>\n      <th>18</th>\n      <td>19</td>\n      <td>山梨</td>\n      <td>837</td>\n    </tr>\n    <tr>\n      <th>19</th>\n      <td>20</td>\n      <td>長野</td>\n      <td>848</td>\n    </tr>\n    <tr>\n      <th>20</th>\n      <td>21</td>\n      <td>岐阜</td>\n      <td>851</td>\n    </tr>\n    <tr>\n      <th>21</th>\n      <td>22</td>\n      <td>静岡</td>\n      <td>885</td>\n    </tr>\n    <tr>\n      <th>22</th>\n      <td>23</td>\n      <td>愛知</td>\n      <td>926</td>\n    </tr>\n    <tr>\n      <th>23</th>\n      <td>24</td>\n      <td>三重</td>\n      <td>873</td>\n    </tr>\n    <tr>\n      <th>24</th>\n      <td>25</td>\n      <td>滋賀</td>\n      <td>866</td>\n    </tr>\n    <tr>\n      <th>25</th>\n      <td>26</td>\n      <td>京都</td>\n      <td>909</td>\n    </tr>\n    <tr>\n      <th>26</th>\n      <td>27</td>\n      <td>大阪</td>\n      <td>964</td>\n    </tr>\n    <tr>\n      <th>27</th>\n      <td>28</td>\n      <td>兵庫</td>\n      <td>899</td>\n    </tr>\n    <tr>\n      <th>28</th>\n      <td>29</td>\n      <td>奈良</td>\n      <td>837</td>\n    </tr>\n    <tr>\n      <th>29</th>\n      <td>30</td>\n      <td>和歌山</td>\n      <td>830</td>\n    </tr>\n    <tr>\n      <th>30</th>\n      <td>31</td>\n      <td>鳥取</td>\n      <td>790</td>\n    </tr>\n    <tr>\n      <th>31</th>\n      <td>32</td>\n      <td>島根</td>\n      <td>790</td>\n    </tr>\n    <tr>\n      <th>32</th>\n      <td>33</td>\n      <td>岡山</td>\n      <td>833</td>\n    </tr>\n    <tr>\n      <th>33</th>\n      <td>34</td>\n      <td>広島</td>\n      <td>871</td>\n    </tr>\n    <tr>\n      <th>34</th>\n      <td>35</td>\n      <td>山口</td>\n      <td>829</td>\n    </tr>\n    <tr>\n      <th>35</th>\n      <td>36</td>\n      <td>徳島</td>\n      <td>793</td>\n    </tr>\n    <tr>\n      <th>36</th>\n      <td>37</td>\n      <td>香川</td>\n      <td>818</td>\n    </tr>\n    <tr>\n      <th>37</th>\n      <td>38</td>\n      <td>愛媛</td>\n      <td>790</td>\n    </tr>\n    <tr>\n      <th>38</th>\n      <td>39</td>\n      <td>高知</td>\n      <td>790</td>\n    </tr>\n    <tr>\n      <th>39</th>\n      <td>40</td>\n      <td>福岡</td>\n      <td>841</td>\n    </tr>\n    <tr>\n      <th>40</th>\n      <td>41</td>\n      <td>佐賀</td>\n      <td>790</td>\n    </tr>\n    <tr>\n      <th>41</th>\n      <td>42</td>\n      <td>長崎</td>\n      <td>790</td>\n    </tr>\n    <tr>\n      <th>42</th>\n      <td>43</td>\n      <td>熊本</td>\n      <td>790</td>\n    </tr>\n    <tr>\n      <th>43</th>\n      <td>44</td>\n      <td>大分</td>\n      <td>790</td>\n    </tr>\n    <tr>\n      <th>44</th>\n      <td>45</td>\n      <td>宮崎</td>\n      <td>790</td>\n    </tr>\n    <tr>\n      <th>45</th>\n      <td>46</td>\n      <td>鹿児島</td>\n      <td>790</td>\n    </tr>\n    <tr>\n      <th>46</th>\n      <td>47</td>\n      <td>沖縄</td>\n      <td>790</td>\n    </tr>\n  </tbody>\n</table>\n</div>"
     },
     "execution_count": 7,
     "metadata": {},
     "output_type": "execute_result"
    }
   ],
   "source": [
    "df_small_wage_reiwa1.reset_index(inplace=True)\n",
    "df_small_wage_reiwa1.columns = [\"pref_id\", \"pref\", \"min_wage\"]\n",
    "df_small_wage_reiwa1"
   ],
   "metadata": {
    "collapsed": false
   }
  },
  {
   "cell_type": "code",
   "execution_count": 8,
   "outputs": [],
   "source": [
    "os.makedirs(\"data\", exist_ok=True)\n",
    "path = \"data/small_wage_reiwa1.csv\"\n",
    "df_small_wage_reiwa1.to_csv(path, index=None)"
   ],
   "metadata": {
    "collapsed": false
   }
  },
  {
   "cell_type": "markdown",
   "source": [
    "Generate practice data: file 6-2-2"
   ],
   "metadata": {
    "collapsed": false
   }
  },
  {
   "cell_type": "code",
   "execution_count": 2,
   "outputs": [
    {
     "data": {
      "text/plain": "  order_id fashion_revenue zakka_revenue food_revenue\n1      123           18600           NaN         5800\n2      124             NaN          2400         8800\n3      125            6900          2900        11200\n4      126            4200          3800         4500\n5      127             NaN          9800          NaN",
      "text/html": "<div>\n<style scoped>\n    .dataframe tbody tr th:only-of-type {\n        vertical-align: middle;\n    }\n\n    .dataframe tbody tr th {\n        vertical-align: top;\n    }\n\n    .dataframe thead th {\n        text-align: right;\n    }\n</style>\n<table border=\"1\" class=\"dataframe\">\n  <thead>\n    <tr style=\"text-align: right;\">\n      <th></th>\n      <th>order_id</th>\n      <th>fashion_revenue</th>\n      <th>zakka_revenue</th>\n      <th>food_revenue</th>\n    </tr>\n  </thead>\n  <tbody>\n    <tr>\n      <th>1</th>\n      <td>123</td>\n      <td>18600</td>\n      <td>NaN</td>\n      <td>5800</td>\n    </tr>\n    <tr>\n      <th>2</th>\n      <td>124</td>\n      <td>NaN</td>\n      <td>2400</td>\n      <td>8800</td>\n    </tr>\n    <tr>\n      <th>3</th>\n      <td>125</td>\n      <td>6900</td>\n      <td>2900</td>\n      <td>11200</td>\n    </tr>\n    <tr>\n      <th>4</th>\n      <td>126</td>\n      <td>4200</td>\n      <td>3800</td>\n      <td>4500</td>\n    </tr>\n    <tr>\n      <th>5</th>\n      <td>127</td>\n      <td>NaN</td>\n      <td>9800</td>\n      <td>NaN</td>\n    </tr>\n  </tbody>\n</table>\n</div>"
     },
     "execution_count": 2,
     "metadata": {},
     "output_type": "execute_result"
    }
   ],
   "source": [
    "small_revenue = [\n",
    "    [\"order_id\", \"fashion_revenue\", \"zakka_revenue\", \"food_revenue\"],\n",
    "    [123, 18600, np.nan, 5800],\n",
    "    [124, np.nan, 2400, 8800],\n",
    "    [125, 6900, 2900, 11200],\n",
    "    [126, 4200, 3800, 4500],\n",
    "    [127, np.nan, 9800, np.nan],\n",
    "]\n",
    "df_small_revenue = pd.DataFrame(small_revenue, columns=small_revenue[0]).drop(0, axis=0)\n",
    "df_small_revenue"
   ],
   "metadata": {
    "collapsed": false
   }
  },
  {
   "cell_type": "code",
   "execution_count": 3,
   "outputs": [
    {
     "data": {
      "text/plain": "   order_id  fashion_revenue  zakka_revenue  food_revenue\n0       123          18600.0            NaN        5800.0\n1       124              NaN         2400.0        8800.0\n2       125           6900.0         2900.0       11200.0\n3       126           4200.0         3800.0        4500.0\n4       127              NaN         9800.0           NaN",
      "text/html": "<div>\n<style scoped>\n    .dataframe tbody tr th:only-of-type {\n        vertical-align: middle;\n    }\n\n    .dataframe tbody tr th {\n        vertical-align: top;\n    }\n\n    .dataframe thead th {\n        text-align: right;\n    }\n</style>\n<table border=\"1\" class=\"dataframe\">\n  <thead>\n    <tr style=\"text-align: right;\">\n      <th></th>\n      <th>order_id</th>\n      <th>fashion_revenue</th>\n      <th>zakka_revenue</th>\n      <th>food_revenue</th>\n    </tr>\n  </thead>\n  <tbody>\n    <tr>\n      <th>0</th>\n      <td>123</td>\n      <td>18600.0</td>\n      <td>NaN</td>\n      <td>5800.0</td>\n    </tr>\n    <tr>\n      <th>1</th>\n      <td>124</td>\n      <td>NaN</td>\n      <td>2400.0</td>\n      <td>8800.0</td>\n    </tr>\n    <tr>\n      <th>2</th>\n      <td>125</td>\n      <td>6900.0</td>\n      <td>2900.0</td>\n      <td>11200.0</td>\n    </tr>\n    <tr>\n      <th>3</th>\n      <td>126</td>\n      <td>4200.0</td>\n      <td>3800.0</td>\n      <td>4500.0</td>\n    </tr>\n    <tr>\n      <th>4</th>\n      <td>127</td>\n      <td>NaN</td>\n      <td>9800.0</td>\n      <td>NaN</td>\n    </tr>\n  </tbody>\n</table>\n</div>"
     },
     "execution_count": 3,
     "metadata": {},
     "output_type": "execute_result"
    }
   ],
   "source": [
    "os.makedirs(\"data\", exist_ok=True)\n",
    "path = \"data/small_revenue.csv\"\n",
    "df_small_revenue.to_csv(path, index=None)\n",
    "pd.read_csv(path)"
   ],
   "metadata": {
    "collapsed": false
   }
  },
  {
   "cell_type": "markdown",
   "source": [
    "Generate practice data: 6-2-6 Vertical Table"
   ],
   "metadata": {
    "collapsed": false
   }
  },
  {
   "cell_type": "code",
   "execution_count": 4,
   "outputs": [
    {
     "data": {
      "text/plain": "  ad_id   phase bounce_rate\n1     A  before        0.68\n2     A   after        0.62\n3     B  before        0.52\n4     B   after        0.55",
      "text/html": "<div>\n<style scoped>\n    .dataframe tbody tr th:only-of-type {\n        vertical-align: middle;\n    }\n\n    .dataframe tbody tr th {\n        vertical-align: top;\n    }\n\n    .dataframe thead th {\n        text-align: right;\n    }\n</style>\n<table border=\"1\" class=\"dataframe\">\n  <thead>\n    <tr style=\"text-align: right;\">\n      <th></th>\n      <th>ad_id</th>\n      <th>phase</th>\n      <th>bounce_rate</th>\n    </tr>\n  </thead>\n  <tbody>\n    <tr>\n      <th>1</th>\n      <td>A</td>\n      <td>before</td>\n      <td>0.68</td>\n    </tr>\n    <tr>\n      <th>2</th>\n      <td>A</td>\n      <td>after</td>\n      <td>0.62</td>\n    </tr>\n    <tr>\n      <th>3</th>\n      <td>B</td>\n      <td>before</td>\n      <td>0.52</td>\n    </tr>\n    <tr>\n      <th>4</th>\n      <td>B</td>\n      <td>after</td>\n      <td>0.55</td>\n    </tr>\n  </tbody>\n</table>\n</div>"
     },
     "execution_count": 4,
     "metadata": {},
     "output_type": "execute_result"
    }
   ],
   "source": [
    "small_ad = [\n",
    "    [\"ad_id\", \"phase\", \"bounce_rate\"],\n",
    "    [\"A\", \"before\", 0.68],\n",
    "    [\"A\", \"after\", 0.62],\n",
    "    [\"B\", \"before\", 0.52],\n",
    "    [\"B\", \"after\", 0.55],\n",
    "]\n",
    "df_small_ad = pd.DataFrame(small_ad, columns=small_ad[0]).drop(0, axis=0)\n",
    "df_small_ad"
   ],
   "metadata": {
    "collapsed": false
   }
  },
  {
   "cell_type": "code",
   "execution_count": 6,
   "outputs": [],
   "source": [
    "os.makedirs(\"data\", exist_ok=True)\n",
    "path = \"data/small_ad.csv\"\n",
    "df_small_ad.to_csv(path, index=None)"
   ],
   "metadata": {
    "collapsed": false
   }
  },
  {
   "cell_type": "markdown",
   "source": [
    "Generate practice data: 6-2-9 Order history table"
   ],
   "metadata": {
    "collapsed": false
   }
  },
  {
   "cell_type": "code",
   "execution_count": 7,
   "outputs": [
    {
     "data": {
      "text/plain": "   user_id order_id  order_date item_cat revenue\n1      ABC      123  2020-03-05   ファッション   10000\n2      ABC      124  2020-04-10   ファッション   12000\n3      ABC      124  2020-04-10       雑貨    3900\n4      ABC      125  2020-05-12      グルメ    5800\n5      STU      126  2020-05-13      グルメ    8600\n6      STU      127  2020-05-27   ファッション    3900\n7      STU      127  2020-05-27       雑貨    6600\n8      XYZ      128  2020-06-01   ファッション    2900\n9      XYZ      128  2020-06-01   ファッション    6900\n10     XYZ      129  2020-06-19       雑貨   38000",
      "text/html": "<div>\n<style scoped>\n    .dataframe tbody tr th:only-of-type {\n        vertical-align: middle;\n    }\n\n    .dataframe tbody tr th {\n        vertical-align: top;\n    }\n\n    .dataframe thead th {\n        text-align: right;\n    }\n</style>\n<table border=\"1\" class=\"dataframe\">\n  <thead>\n    <tr style=\"text-align: right;\">\n      <th></th>\n      <th>user_id</th>\n      <th>order_id</th>\n      <th>order_date</th>\n      <th>item_cat</th>\n      <th>revenue</th>\n    </tr>\n  </thead>\n  <tbody>\n    <tr>\n      <th>1</th>\n      <td>ABC</td>\n      <td>123</td>\n      <td>2020-03-05</td>\n      <td>ファッション</td>\n      <td>10000</td>\n    </tr>\n    <tr>\n      <th>2</th>\n      <td>ABC</td>\n      <td>124</td>\n      <td>2020-04-10</td>\n      <td>ファッション</td>\n      <td>12000</td>\n    </tr>\n    <tr>\n      <th>3</th>\n      <td>ABC</td>\n      <td>124</td>\n      <td>2020-04-10</td>\n      <td>雑貨</td>\n      <td>3900</td>\n    </tr>\n    <tr>\n      <th>4</th>\n      <td>ABC</td>\n      <td>125</td>\n      <td>2020-05-12</td>\n      <td>グルメ</td>\n      <td>5800</td>\n    </tr>\n    <tr>\n      <th>5</th>\n      <td>STU</td>\n      <td>126</td>\n      <td>2020-05-13</td>\n      <td>グルメ</td>\n      <td>8600</td>\n    </tr>\n    <tr>\n      <th>6</th>\n      <td>STU</td>\n      <td>127</td>\n      <td>2020-05-27</td>\n      <td>ファッション</td>\n      <td>3900</td>\n    </tr>\n    <tr>\n      <th>7</th>\n      <td>STU</td>\n      <td>127</td>\n      <td>2020-05-27</td>\n      <td>雑貨</td>\n      <td>6600</td>\n    </tr>\n    <tr>\n      <th>8</th>\n      <td>XYZ</td>\n      <td>128</td>\n      <td>2020-06-01</td>\n      <td>ファッション</td>\n      <td>2900</td>\n    </tr>\n    <tr>\n      <th>9</th>\n      <td>XYZ</td>\n      <td>128</td>\n      <td>2020-06-01</td>\n      <td>ファッション</td>\n      <td>6900</td>\n    </tr>\n    <tr>\n      <th>10</th>\n      <td>XYZ</td>\n      <td>129</td>\n      <td>2020-06-19</td>\n      <td>雑貨</td>\n      <td>38000</td>\n    </tr>\n  </tbody>\n</table>\n</div>"
     },
     "execution_count": 7,
     "metadata": {},
     "output_type": "execute_result"
    }
   ],
   "source": [
    "small_order_date = [\n",
    "    [\"user_id\", \"order_id\", \"order_date\", \"item_cat\", \"revenue\"],\n",
    "    [\"ABC\", 123, dt.date(2020, 3, 5), \"ファッション\", 10000],\n",
    "    [\"ABC\", 124, dt.date(2020, 4, 10), \"ファッション\", 12000],\n",
    "    [\"ABC\", 124, dt.date(2020, 4, 10), \"雑貨\", 3900],\n",
    "    [\"ABC\", 125, dt.date(2020, 5, 12), \"グルメ\", 5800],\n",
    "    [\"STU\", 126, dt.date(2020, 5, 13), \"グルメ\", 8600],\n",
    "    [\"STU\", 127, dt.date(2020, 5, 27), \"ファッション\", 3900],\n",
    "    [\"STU\", 127, dt.date(2020, 5, 27), \"雑貨\", 6600],\n",
    "    [\"XYZ\", 128, dt.date(2020, 6, 1), \"ファッション\", 2900],\n",
    "    [\"XYZ\", 128, dt.date(2020, 6, 1), \"ファッション\", 6900],\n",
    "    [\"XYZ\", 129, dt.date(2020, 6, 19), \"雑貨\", 38000],\n",
    "]\n",
    "df_small_order_date = pd.DataFrame(small_order_date, columns=small_order_date[0]).drop(0, axis=0)\n",
    "df_small_order_date"
   ],
   "metadata": {
    "collapsed": false
   }
  },
  {
   "cell_type": "code",
   "execution_count": 8,
   "outputs": [],
   "source": [
    "os.makedirs(\"data\", exist_ok=True)\n",
    "path = \"data/small_order_date.csv\"\n",
    "df_small_order_date.to_csv(path, index=None)"
   ],
   "metadata": {
    "collapsed": false
   }
  },
  {
   "cell_type": "markdown",
   "source": [
    "Generate practice data: Sales result table 6-2-11"
   ],
   "metadata": {
    "collapsed": false
   }
  },
  {
   "cell_type": "code",
   "execution_count": 3,
   "outputs": [
    {
     "data": {
      "text/plain": "  order_id item revenue\n1      123    A    5800\n2      123    B    5800\n3      124    A    7200\n4      124    D    7200\n5      124    E    7200\n6      125    C    4800\n7      125    E    4800\n8      126    B    3200\n9      126    C    3200",
      "text/html": "<div>\n<style scoped>\n    .dataframe tbody tr th:only-of-type {\n        vertical-align: middle;\n    }\n\n    .dataframe tbody tr th {\n        vertical-align: top;\n    }\n\n    .dataframe thead th {\n        text-align: right;\n    }\n</style>\n<table border=\"1\" class=\"dataframe\">\n  <thead>\n    <tr style=\"text-align: right;\">\n      <th></th>\n      <th>order_id</th>\n      <th>item</th>\n      <th>revenue</th>\n    </tr>\n  </thead>\n  <tbody>\n    <tr>\n      <th>1</th>\n      <td>123</td>\n      <td>A</td>\n      <td>5800</td>\n    </tr>\n    <tr>\n      <th>2</th>\n      <td>123</td>\n      <td>B</td>\n      <td>5800</td>\n    </tr>\n    <tr>\n      <th>3</th>\n      <td>124</td>\n      <td>A</td>\n      <td>7200</td>\n    </tr>\n    <tr>\n      <th>4</th>\n      <td>124</td>\n      <td>D</td>\n      <td>7200</td>\n    </tr>\n    <tr>\n      <th>5</th>\n      <td>124</td>\n      <td>E</td>\n      <td>7200</td>\n    </tr>\n    <tr>\n      <th>6</th>\n      <td>125</td>\n      <td>C</td>\n      <td>4800</td>\n    </tr>\n    <tr>\n      <th>7</th>\n      <td>125</td>\n      <td>E</td>\n      <td>4800</td>\n    </tr>\n    <tr>\n      <th>8</th>\n      <td>126</td>\n      <td>B</td>\n      <td>3200</td>\n    </tr>\n    <tr>\n      <th>9</th>\n      <td>126</td>\n      <td>C</td>\n      <td>3200</td>\n    </tr>\n  </tbody>\n</table>\n</div>"
     },
     "execution_count": 3,
     "metadata": {},
     "output_type": "execute_result"
    }
   ],
   "source": [
    "small_item = [\n",
    "    [\"order_id\", \"item\", \"revenue\"],\n",
    "    [123, \"A\", 5800],\n",
    "    [123, \"B\", 5800],\n",
    "    [124, \"A\", 7200],\n",
    "    [124, \"D\", 7200],\n",
    "    [124, \"E\", 7200],\n",
    "    [125, \"C\", 4800],\n",
    "    [125, \"E\", 4800],\n",
    "    [126, \"B\", 3200],\n",
    "    [126, \"C\", 3200],\n",
    "]\n",
    "df_small_item = pd.DataFrame(small_item, columns=small_item[0]).drop(0, axis=0)\n",
    "df_small_item"
   ],
   "metadata": {
    "collapsed": false
   }
  },
  {
   "cell_type": "code",
   "execution_count": 4,
   "outputs": [],
   "source": [
    "os.makedirs(\"data\", exist_ok=True)\n",
    "path = \"data/small_item.csv\"\n",
    "df_small_item.to_csv(path, index=None)"
   ],
   "metadata": {
    "collapsed": false
   }
  },
  {
   "cell_type": "markdown",
   "source": [
    "Generate practice data: Working record & Calendar tables #6-2-15"
   ],
   "metadata": {
    "collapsed": false
   }
  },
  {
   "cell_type": "code",
   "execution_count": 5,
   "outputs": [
    {
     "data": {
      "text/plain": "  room  start_date    end_date\n1  101  2020-06-01  2020-06-05\n2  102  2020-06-08  2020-06-11\n3  103  2020-06-12  2020-06-16\n4  104  2020-06-19  2020-06-23\n5  105  2020-06-24  2020-06-30",
      "text/html": "<div>\n<style scoped>\n    .dataframe tbody tr th:only-of-type {\n        vertical-align: middle;\n    }\n\n    .dataframe tbody tr th {\n        vertical-align: top;\n    }\n\n    .dataframe thead th {\n        text-align: right;\n    }\n</style>\n<table border=\"1\" class=\"dataframe\">\n  <thead>\n    <tr style=\"text-align: right;\">\n      <th></th>\n      <th>room</th>\n      <th>start_date</th>\n      <th>end_date</th>\n    </tr>\n  </thead>\n  <tbody>\n    <tr>\n      <th>1</th>\n      <td>101</td>\n      <td>2020-06-01</td>\n      <td>2020-06-05</td>\n    </tr>\n    <tr>\n      <th>2</th>\n      <td>102</td>\n      <td>2020-06-08</td>\n      <td>2020-06-11</td>\n    </tr>\n    <tr>\n      <th>3</th>\n      <td>103</td>\n      <td>2020-06-12</td>\n      <td>2020-06-16</td>\n    </tr>\n    <tr>\n      <th>4</th>\n      <td>104</td>\n      <td>2020-06-19</td>\n      <td>2020-06-23</td>\n    </tr>\n    <tr>\n      <th>5</th>\n      <td>105</td>\n      <td>2020-06-24</td>\n      <td>2020-06-30</td>\n    </tr>\n  </tbody>\n</table>\n</div>"
     },
     "execution_count": 5,
     "metadata": {},
     "output_type": "execute_result"
    }
   ],
   "source": [
    "small_workdate = [\n",
    "    [\"room\", \"start_date\", \"end_date\"],\n",
    "    [101, dt.date(2020, 6, 1), dt.date(2020, 6, 5)],\n",
    "    [102, dt.date(2020, 6, 8), dt.date(2020, 6, 11)],\n",
    "    [103, dt.date(2020, 6, 12), dt.date(2020, 6, 16)],\n",
    "    [104, dt.date(2020, 6, 19), dt.date(2020, 6, 23)],\n",
    "    [105, dt.date(2020, 6, 24), dt.date(2020, 6, 30)],\n",
    "    ]\n",
    "df_small_workdate = pd.DataFrame(small_workdate, columns=small_workdate[0]).drop(0, axis=0)\n",
    "df_small_workdate"
   ],
   "metadata": {
    "collapsed": false
   }
  },
  {
   "cell_type": "code",
   "execution_count": 13,
   "outputs": [
    {
     "data": {
      "text/plain": "          date day_of_week\n0   2020-06-01         Mon\n1   2020-06-02         Tue\n2   2020-06-03         Wed\n3   2020-06-04         Thu\n4   2020-06-05         Fri\n5   2020-06-06         Sat\n6   2020-06-07         Sun\n7   2020-06-08         Mon\n8   2020-06-09         Tue\n9   2020-06-10         Wed\n10  2020-06-11         Thu\n11  2020-06-12         Fri\n12  2020-06-13         Sat\n13  2020-06-14         Sun\n14  2020-06-15         Mon\n15  2020-06-16         Tue\n16  2020-06-17         Wed\n17  2020-06-18         Thu\n18  2020-06-19         Fri\n19  2020-06-20         Sat\n20  2020-06-21         Sun\n21  2020-06-22         Mon\n22  2020-06-23         Tue\n23  2020-06-24         Wed\n24  2020-06-25         Thu\n25  2020-06-26         Fri\n26  2020-06-27         Sat\n27  2020-06-28         Sun\n28  2020-06-29         Mon\n29  2020-06-30         Tue",
      "text/html": "<div>\n<style scoped>\n    .dataframe tbody tr th:only-of-type {\n        vertical-align: middle;\n    }\n\n    .dataframe tbody tr th {\n        vertical-align: top;\n    }\n\n    .dataframe thead th {\n        text-align: right;\n    }\n</style>\n<table border=\"1\" class=\"dataframe\">\n  <thead>\n    <tr style=\"text-align: right;\">\n      <th></th>\n      <th>date</th>\n      <th>day_of_week</th>\n    </tr>\n  </thead>\n  <tbody>\n    <tr>\n      <th>0</th>\n      <td>2020-06-01</td>\n      <td>Mon</td>\n    </tr>\n    <tr>\n      <th>1</th>\n      <td>2020-06-02</td>\n      <td>Tue</td>\n    </tr>\n    <tr>\n      <th>2</th>\n      <td>2020-06-03</td>\n      <td>Wed</td>\n    </tr>\n    <tr>\n      <th>3</th>\n      <td>2020-06-04</td>\n      <td>Thu</td>\n    </tr>\n    <tr>\n      <th>4</th>\n      <td>2020-06-05</td>\n      <td>Fri</td>\n    </tr>\n    <tr>\n      <th>5</th>\n      <td>2020-06-06</td>\n      <td>Sat</td>\n    </tr>\n    <tr>\n      <th>6</th>\n      <td>2020-06-07</td>\n      <td>Sun</td>\n    </tr>\n    <tr>\n      <th>7</th>\n      <td>2020-06-08</td>\n      <td>Mon</td>\n    </tr>\n    <tr>\n      <th>8</th>\n      <td>2020-06-09</td>\n      <td>Tue</td>\n    </tr>\n    <tr>\n      <th>9</th>\n      <td>2020-06-10</td>\n      <td>Wed</td>\n    </tr>\n    <tr>\n      <th>10</th>\n      <td>2020-06-11</td>\n      <td>Thu</td>\n    </tr>\n    <tr>\n      <th>11</th>\n      <td>2020-06-12</td>\n      <td>Fri</td>\n    </tr>\n    <tr>\n      <th>12</th>\n      <td>2020-06-13</td>\n      <td>Sat</td>\n    </tr>\n    <tr>\n      <th>13</th>\n      <td>2020-06-14</td>\n      <td>Sun</td>\n    </tr>\n    <tr>\n      <th>14</th>\n      <td>2020-06-15</td>\n      <td>Mon</td>\n    </tr>\n    <tr>\n      <th>15</th>\n      <td>2020-06-16</td>\n      <td>Tue</td>\n    </tr>\n    <tr>\n      <th>16</th>\n      <td>2020-06-17</td>\n      <td>Wed</td>\n    </tr>\n    <tr>\n      <th>17</th>\n      <td>2020-06-18</td>\n      <td>Thu</td>\n    </tr>\n    <tr>\n      <th>18</th>\n      <td>2020-06-19</td>\n      <td>Fri</td>\n    </tr>\n    <tr>\n      <th>19</th>\n      <td>2020-06-20</td>\n      <td>Sat</td>\n    </tr>\n    <tr>\n      <th>20</th>\n      <td>2020-06-21</td>\n      <td>Sun</td>\n    </tr>\n    <tr>\n      <th>21</th>\n      <td>2020-06-22</td>\n      <td>Mon</td>\n    </tr>\n    <tr>\n      <th>22</th>\n      <td>2020-06-23</td>\n      <td>Tue</td>\n    </tr>\n    <tr>\n      <th>23</th>\n      <td>2020-06-24</td>\n      <td>Wed</td>\n    </tr>\n    <tr>\n      <th>24</th>\n      <td>2020-06-25</td>\n      <td>Thu</td>\n    </tr>\n    <tr>\n      <th>25</th>\n      <td>2020-06-26</td>\n      <td>Fri</td>\n    </tr>\n    <tr>\n      <th>26</th>\n      <td>2020-06-27</td>\n      <td>Sat</td>\n    </tr>\n    <tr>\n      <th>27</th>\n      <td>2020-06-28</td>\n      <td>Sun</td>\n    </tr>\n    <tr>\n      <th>28</th>\n      <td>2020-06-29</td>\n      <td>Mon</td>\n    </tr>\n    <tr>\n      <th>29</th>\n      <td>2020-06-30</td>\n      <td>Tue</td>\n    </tr>\n  </tbody>\n</table>\n</div>"
     },
     "execution_count": 13,
     "metadata": {},
     "output_type": "execute_result"
    }
   ],
   "source": [
    "small_cal = []\n",
    "for i in range(1, 31):\n",
    "    date = dt.date(2020, 6, i)\n",
    "    small_cal.append([date, date.strftime(\"%a\")])\n",
    "\n",
    "small_cal\n",
    "\n",
    "df_small_cal = pd.DataFrame(small_cal, columns=[\"date\", \"day_of_week\"])\n",
    "df_small_cal"
   ],
   "metadata": {
    "collapsed": false
   }
  },
  {
   "cell_type": "code",
   "execution_count": 15,
   "outputs": [],
   "source": [
    "os.makedirs(\"data\", exist_ok=True)\n",
    "titles = [\"small_workdate\", \"small_cal\"]\n",
    "dfs = [df_small_workdate, df_small_cal]\n",
    "for title, df in zip(titles, dfs):\n",
    "    path = f\"data/{title}.csv\"\n",
    "    df.to_csv(path, index=None)"
   ],
   "metadata": {
    "collapsed": false
   }
  },
  {
   "cell_type": "code",
   "execution_count": null,
   "outputs": [],
   "source": [],
   "metadata": {
    "collapsed": false
   }
  }
 ],
 "metadata": {
  "kernelspec": {
   "display_name": "Python 3",
   "language": "python",
   "name": "python3"
  },
  "language_info": {
   "codemirror_mode": {
    "name": "ipython",
    "version": 2
   },
   "file_extension": ".py",
   "mimetype": "text/x-python",
   "name": "python",
   "nbconvert_exporter": "python",
   "pygments_lexer": "ipython2",
   "version": "2.7.6"
  }
 },
 "nbformat": 4,
 "nbformat_minor": 0
}
