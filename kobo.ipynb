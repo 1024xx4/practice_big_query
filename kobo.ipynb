{
 "cells": [
  {
   "cell_type": "code",
   "execution_count": 1,
   "metadata": {
    "collapsed": true
   },
   "outputs": [],
   "source": [
    "import pandas as pd\n",
    "import numpy as np\n",
    "import os\n",
    "import datetime as dt"
   ]
  },
  {
   "cell_type": "markdown",
   "source": [
    "Generate practice data: Section 5-2 Table of join"
   ],
   "metadata": {
    "collapsed": false
   }
  },
  {
   "cell_type": "code",
   "execution_count": 2,
   "outputs": [
    {
     "data": {
      "text/plain": "  product_id qty\n1          D   3\n2          B   4\n3          C   2",
      "text/html": "<div>\n<style scoped>\n    .dataframe tbody tr th:only-of-type {\n        vertical-align: middle;\n    }\n\n    .dataframe tbody tr th {\n        vertical-align: top;\n    }\n\n    .dataframe thead th {\n        text-align: right;\n    }\n</style>\n<table border=\"1\" class=\"dataframe\">\n  <thead>\n    <tr style=\"text-align: right;\">\n      <th></th>\n      <th>product_id</th>\n      <th>qty</th>\n    </tr>\n  </thead>\n  <tbody>\n    <tr>\n      <th>1</th>\n      <td>D</td>\n      <td>3</td>\n    </tr>\n    <tr>\n      <th>2</th>\n      <td>B</td>\n      <td>4</td>\n    </tr>\n    <tr>\n      <th>3</th>\n      <td>C</td>\n      <td>2</td>\n    </tr>\n  </tbody>\n</table>\n</div>"
     },
     "execution_count": 2,
     "metadata": {},
     "output_type": "execute_result"
    }
   ],
   "source": [
    "small_sales_1 = [\n",
    "    [\"product_id\", \"qty\"],\n",
    "    [\"D\", 3],\n",
    "    [\"B\", 4],\n",
    "    [\"C\", 2],\n",
    "]\n",
    "\n",
    "df_small_sales_1 = pd.DataFrame(small_sales_1, columns=small_sales_1[0]).drop(0, axis=0)\n",
    "df_small_sales_1"
   ],
   "metadata": {
    "collapsed": false
   }
  },
  {
   "cell_type": "code",
   "execution_count": 3,
   "outputs": [
    {
     "data": {
      "text/plain": "  product_id product_name\n1          A           アジ\n2          B           サバ\n3          C           タコ",
      "text/html": "<div>\n<style scoped>\n    .dataframe tbody tr th:only-of-type {\n        vertical-align: middle;\n    }\n\n    .dataframe tbody tr th {\n        vertical-align: top;\n    }\n\n    .dataframe thead th {\n        text-align: right;\n    }\n</style>\n<table border=\"1\" class=\"dataframe\">\n  <thead>\n    <tr style=\"text-align: right;\">\n      <th></th>\n      <th>product_id</th>\n      <th>product_name</th>\n    </tr>\n  </thead>\n  <tbody>\n    <tr>\n      <th>1</th>\n      <td>A</td>\n      <td>アジ</td>\n    </tr>\n    <tr>\n      <th>2</th>\n      <td>B</td>\n      <td>サバ</td>\n    </tr>\n    <tr>\n      <th>3</th>\n      <td>C</td>\n      <td>タコ</td>\n    </tr>\n  </tbody>\n</table>\n</div>"
     },
     "execution_count": 3,
     "metadata": {},
     "output_type": "execute_result"
    }
   ],
   "source": [
    "small_master = [\n",
    "    [\"product_id\", \"product_name\"],\n",
    "    [\"A\", \"アジ\"],\n",
    "    [\"B\", \"サバ\"],\n",
    "    [\"C\", \"タコ\"]\n",
    "]\n",
    "\n",
    "df_small_master = pd.DataFrame(small_master, columns=small_master[0]).drop(0, axis=0)\n",
    "df_small_master"
   ],
   "metadata": {
    "collapsed": false
   }
  },
  {
   "cell_type": "code",
   "execution_count": 4,
   "outputs": [],
   "source": [
    "titles = [\"small_sales_1\", \"small_master\"]\n",
    "dfs = [df_small_sales_1, df_small_master]\n",
    "\n",
    "for title, df in zip(titles, dfs):\n",
    "    os.makedirs(\"data\", exist_ok=True)\n",
    "    path = f\"data/{title}.csv\"\n",
    "    df.to_csv(path, index=None)"
   ],
   "metadata": {
    "collapsed": false
   }
  },
  {
   "cell_type": "markdown",
   "source": [
    "Generate practice data: Section 5-3 Multiple condition 3 table or more join."
   ],
   "metadata": {
    "collapsed": false
   }
  },
  {
   "cell_type": "code",
   "execution_count": 14,
   "outputs": [
    {
     "data": {
      "text/plain": "   year_month product_category sales\n1  2019-01-01            Men's   134\n2  2019-01-01           Lady's   122\n3  2019-02-01            Men's   155\n4  2019-02-01           Lady's   116\n5  2019-03-01            Men's   152\n6  2019-03-01           Lady's   139",
      "text/html": "<div>\n<style scoped>\n    .dataframe tbody tr th:only-of-type {\n        vertical-align: middle;\n    }\n\n    .dataframe tbody tr th {\n        vertical-align: top;\n    }\n\n    .dataframe thead th {\n        text-align: right;\n    }\n</style>\n<table border=\"1\" class=\"dataframe\">\n  <thead>\n    <tr style=\"text-align: right;\">\n      <th></th>\n      <th>year_month</th>\n      <th>product_category</th>\n      <th>sales</th>\n    </tr>\n  </thead>\n  <tbody>\n    <tr>\n      <th>1</th>\n      <td>2019-01-01</td>\n      <td>Men's</td>\n      <td>134</td>\n    </tr>\n    <tr>\n      <th>2</th>\n      <td>2019-01-01</td>\n      <td>Lady's</td>\n      <td>122</td>\n    </tr>\n    <tr>\n      <th>3</th>\n      <td>2019-02-01</td>\n      <td>Men's</td>\n      <td>155</td>\n    </tr>\n    <tr>\n      <th>4</th>\n      <td>2019-02-01</td>\n      <td>Lady's</td>\n      <td>116</td>\n    </tr>\n    <tr>\n      <th>5</th>\n      <td>2019-03-01</td>\n      <td>Men's</td>\n      <td>152</td>\n    </tr>\n    <tr>\n      <th>6</th>\n      <td>2019-03-01</td>\n      <td>Lady's</td>\n      <td>139</td>\n    </tr>\n  </tbody>\n</table>\n</div>"
     },
     "execution_count": 14,
     "metadata": {},
     "output_type": "execute_result"
    }
   ],
   "source": [
    "small_sales_2 = [\n",
    "    [\"year_month\", \"product_category\", \"sales\"],\n",
    "    [dt.date(2019, 1, 1), \"Men's\", 134],\n",
    "    [dt.date(2019, 1, 1), \"Lady's\", 122],\n",
    "    [dt.date(2019, 2, 1), \"Men's\", 155],\n",
    "    [dt.date(2019, 2, 1), \"Lady's\", 116],\n",
    "    [dt.date(2019, 3, 1), \"Men's\", 152],\n",
    "    [dt.date(2019, 3, 1), \"Lady's\", 139]\n",
    "]\n",
    "\n",
    "df_small_sales_2 = pd.DataFrame(small_sales_2, columns=small_sales_2[0]).drop(0, axis=0)\n",
    "df_small_sales_2"
   ],
   "metadata": {
    "collapsed": false
   }
  },
  {
   "cell_type": "code",
   "execution_count": 15,
   "outputs": [
    {
     "data": {
      "text/plain": "        month category target\n1  2019-01-01    Men's    130\n2  2019-01-01   Lady's    120\n3  2019-02-01    Men's    160\n4  2019-02-01   Lady's    120\n5  2019-03-01    Men's    160\n6  2019-03-01   Lady's    130",
      "text/html": "<div>\n<style scoped>\n    .dataframe tbody tr th:only-of-type {\n        vertical-align: middle;\n    }\n\n    .dataframe tbody tr th {\n        vertical-align: top;\n    }\n\n    .dataframe thead th {\n        text-align: right;\n    }\n</style>\n<table border=\"1\" class=\"dataframe\">\n  <thead>\n    <tr style=\"text-align: right;\">\n      <th></th>\n      <th>month</th>\n      <th>category</th>\n      <th>target</th>\n    </tr>\n  </thead>\n  <tbody>\n    <tr>\n      <th>1</th>\n      <td>2019-01-01</td>\n      <td>Men's</td>\n      <td>130</td>\n    </tr>\n    <tr>\n      <th>2</th>\n      <td>2019-01-01</td>\n      <td>Lady's</td>\n      <td>120</td>\n    </tr>\n    <tr>\n      <th>3</th>\n      <td>2019-02-01</td>\n      <td>Men's</td>\n      <td>160</td>\n    </tr>\n    <tr>\n      <th>4</th>\n      <td>2019-02-01</td>\n      <td>Lady's</td>\n      <td>120</td>\n    </tr>\n    <tr>\n      <th>5</th>\n      <td>2019-03-01</td>\n      <td>Men's</td>\n      <td>160</td>\n    </tr>\n    <tr>\n      <th>6</th>\n      <td>2019-03-01</td>\n      <td>Lady's</td>\n      <td>130</td>\n    </tr>\n  </tbody>\n</table>\n</div>"
     },
     "execution_count": 15,
     "metadata": {},
     "output_type": "execute_result"
    }
   ],
   "source": [
    "small_target = [\n",
    "    [\"month\", \"category\", \"target\"],\n",
    "    [dt.date(2019, 1, 1), \"Men's\", 130],\n",
    "    [dt.date(2019, 1, 1), \"Lady's\", 120],\n",
    "    [dt.date(2019, 2, 1), \"Men's\", 160],\n",
    "    [dt.date(2019, 2, 1), \"Lady's\", 120],\n",
    "    [dt.date(2019, 3, 1), \"Men's\", 160],\n",
    "    [dt.date(2019, 3, 1), \"Lady's\", 130],\n",
    "]\n",
    "\n",
    "df_small_target = pd.DataFrame(small_target, columns=small_target[0]).drop(0, axis=0)\n",
    "df_small_target"
   ],
   "metadata": {
    "collapsed": false
   }
  },
  {
   "cell_type": "code",
   "execution_count": 16,
   "outputs": [],
   "source": [
    "titles = [\"small_sales_2\", \"small_target\"]\n",
    "dfs = [df_small_sales_2, df_small_target]\n",
    "\n",
    "for title, df in zip(titles, dfs):\n",
    "    os.makedirs(\"data\", exist_ok=True)\n",
    "    path = f\"data/{title}.csv\"\n",
    "    df.to_csv(path, index=None)"
   ],
   "metadata": {
    "collapsed": false
   }
  },
  {
   "cell_type": "markdown",
   "source": [
    "Generate Practice-data: Section 5-3-7 Sales, Store, Product tables."
   ],
   "metadata": {
    "collapsed": false
   }
  },
  {
   "cell_type": "code",
   "execution_count": 10,
   "outputs": [
    {
     "data": {
      "text/plain": "  product_id shop_id sales\n1          1       1   134\n2          1       2   122\n3          1       3   155\n4          2       1   116\n5          2       2   152\n6          2       3   139",
      "text/html": "<div>\n<style scoped>\n    .dataframe tbody tr th:only-of-type {\n        vertical-align: middle;\n    }\n\n    .dataframe tbody tr th {\n        vertical-align: top;\n    }\n\n    .dataframe thead th {\n        text-align: right;\n    }\n</style>\n<table border=\"1\" class=\"dataframe\">\n  <thead>\n    <tr style=\"text-align: right;\">\n      <th></th>\n      <th>product_id</th>\n      <th>shop_id</th>\n      <th>sales</th>\n    </tr>\n  </thead>\n  <tbody>\n    <tr>\n      <th>1</th>\n      <td>1</td>\n      <td>1</td>\n      <td>134</td>\n    </tr>\n    <tr>\n      <th>2</th>\n      <td>1</td>\n      <td>2</td>\n      <td>122</td>\n    </tr>\n    <tr>\n      <th>3</th>\n      <td>1</td>\n      <td>3</td>\n      <td>155</td>\n    </tr>\n    <tr>\n      <th>4</th>\n      <td>2</td>\n      <td>1</td>\n      <td>116</td>\n    </tr>\n    <tr>\n      <th>5</th>\n      <td>2</td>\n      <td>2</td>\n      <td>152</td>\n    </tr>\n    <tr>\n      <th>6</th>\n      <td>2</td>\n      <td>3</td>\n      <td>139</td>\n    </tr>\n  </tbody>\n</table>\n</div>"
     },
     "execution_count": 10,
     "metadata": {},
     "output_type": "execute_result"
    }
   ],
   "source": [
    "small_sales_3 = [\n",
    "    [\"product_id\", \"shop_id\", \"sales\"],\n",
    "    [1, 1, 134],\n",
    "    [1, 2, 122],\n",
    "    [1, 3, 155],\n",
    "    [2, 1, 116],\n",
    "    [2, 2, 152],\n",
    "    [2, 3, 139],\n",
    "]\n",
    "\n",
    "df_small_sales_3 = pd.DataFrame(small_sales_3, columns=small_sales_3[0]).drop(0, axis=0)\n",
    "df_small_sales_3"
   ],
   "metadata": {
    "collapsed": false
   }
  },
  {
   "cell_type": "code",
   "execution_count": 11,
   "outputs": [
    {
     "data": {
      "text/plain": "  shop_id area_id shop_name\n1       1       1        築地\n2       2       1        銀座\n3       3       2        豊洲",
      "text/html": "<div>\n<style scoped>\n    .dataframe tbody tr th:only-of-type {\n        vertical-align: middle;\n    }\n\n    .dataframe tbody tr th {\n        vertical-align: top;\n    }\n\n    .dataframe thead th {\n        text-align: right;\n    }\n</style>\n<table border=\"1\" class=\"dataframe\">\n  <thead>\n    <tr style=\"text-align: right;\">\n      <th></th>\n      <th>shop_id</th>\n      <th>area_id</th>\n      <th>shop_name</th>\n    </tr>\n  </thead>\n  <tbody>\n    <tr>\n      <th>1</th>\n      <td>1</td>\n      <td>1</td>\n      <td>築地</td>\n    </tr>\n    <tr>\n      <th>2</th>\n      <td>2</td>\n      <td>1</td>\n      <td>銀座</td>\n    </tr>\n    <tr>\n      <th>3</th>\n      <td>3</td>\n      <td>2</td>\n      <td>豊洲</td>\n    </tr>\n  </tbody>\n</table>\n</div>"
     },
     "execution_count": 11,
     "metadata": {},
     "output_type": "execute_result"
    }
   ],
   "source": [
    "small_s_master = [\n",
    "    [\"shop_id\", \"area_id\", \"shop_name\"],\n",
    "    [1, 1, \"築地\"],\n",
    "    [2, 1, \"銀座\"],\n",
    "    [3, 2, \"豊洲\"],\n",
    "]\n",
    "\n",
    "df_s_master = pd.DataFrame(small_s_master, columns=small_s_master[0]).drop(0, axis=0)\n",
    "df_s_master"
   ],
   "metadata": {
    "collapsed": false
   }
  },
  {
   "cell_type": "code",
   "execution_count": 12,
   "outputs": [
    {
     "data": {
      "text/plain": "  product_id product_name\n1          1           アジ\n2          2           タコ",
      "text/html": "<div>\n<style scoped>\n    .dataframe tbody tr th:only-of-type {\n        vertical-align: middle;\n    }\n\n    .dataframe tbody tr th {\n        vertical-align: top;\n    }\n\n    .dataframe thead th {\n        text-align: right;\n    }\n</style>\n<table border=\"1\" class=\"dataframe\">\n  <thead>\n    <tr style=\"text-align: right;\">\n      <th></th>\n      <th>product_id</th>\n      <th>product_name</th>\n    </tr>\n  </thead>\n  <tbody>\n    <tr>\n      <th>1</th>\n      <td>1</td>\n      <td>アジ</td>\n    </tr>\n    <tr>\n      <th>2</th>\n      <td>2</td>\n      <td>タコ</td>\n    </tr>\n  </tbody>\n</table>\n</div>"
     },
     "execution_count": 12,
     "metadata": {},
     "output_type": "execute_result"
    }
   ],
   "source": [
    "small_p_master = [\n",
    "    [\"product_id\", \"product_name\"],\n",
    "    [1, \"アジ\"],\n",
    "    [2, \"タコ\"]\n",
    "]\n",
    "\n",
    "df_p_master = pd.DataFrame(small_p_master, columns=small_p_master[0]).drop(0, axis=0)\n",
    "df_p_master"
   ],
   "metadata": {
    "collapsed": false
   }
  },
  {
   "cell_type": "code",
   "execution_count": 13,
   "outputs": [],
   "source": [
    "titles = [\"small_sales_3\", \"small_s_master\", \"small_p_master\"]\n",
    "dfs = [df_small_sales_3, df_s_master, df_p_master]\n",
    "\n",
    "for title, df in zip(titles, dfs):\n",
    "    os.makedirs(\"data\", exist_ok=True)\n",
    "    path = f\"data/{title}.csv\"\n",
    "    df.to_csv(path, index=None)"
   ],
   "metadata": {
    "collapsed": false
   }
  },
  {
   "cell_type": "markdown",
   "source": [
    "Generate practice data: SECTION 5-3-11 Sales, Store, Area tables."
   ],
   "metadata": {
    "collapsed": false
   }
  },
  {
   "cell_type": "code",
   "execution_count": 14,
   "outputs": [
    {
     "data": {
      "text/plain": "  shop_area_id area_name\n1            1       中央区\n2            2       江東区",
      "text/html": "<div>\n<style scoped>\n    .dataframe tbody tr th:only-of-type {\n        vertical-align: middle;\n    }\n\n    .dataframe tbody tr th {\n        vertical-align: top;\n    }\n\n    .dataframe thead th {\n        text-align: right;\n    }\n</style>\n<table border=\"1\" class=\"dataframe\">\n  <thead>\n    <tr style=\"text-align: right;\">\n      <th></th>\n      <th>shop_area_id</th>\n      <th>area_name</th>\n    </tr>\n  </thead>\n  <tbody>\n    <tr>\n      <th>1</th>\n      <td>1</td>\n      <td>中央区</td>\n    </tr>\n    <tr>\n      <th>2</th>\n      <td>2</td>\n      <td>江東区</td>\n    </tr>\n  </tbody>\n</table>\n</div>"
     },
     "execution_count": 14,
     "metadata": {},
     "output_type": "execute_result"
    }
   ],
   "source": [
    "small_a_master = [\n",
    "    [\"shop_area_id\", \"area_name\"],\n",
    "    [1, \"中央区\"],\n",
    "    [2, \"江東区\"]\n",
    "]\n",
    "\n",
    "df_small_a_master = pd.DataFrame(small_a_master, columns=small_a_master[0]).drop(0, axis=0)\n",
    "df_small_a_master"
   ],
   "metadata": {
    "collapsed": false
   }
  },
  {
   "cell_type": "code",
   "execution_count": 15,
   "outputs": [],
   "source": [
    "os.makedirs(\"data\", exist_ok=True)\n",
    "path = f\"data/small_a_master.csv\"\n",
    "df_small_a_master.to_csv(path, index=None)"
   ],
   "metadata": {
    "collapsed": false
   }
  },
  {
   "cell_type": "markdown",
   "source": [
    "Generate practice data: Section 5-4-1 Annual sales count table."
   ],
   "metadata": {
    "collapsed": false
   }
  },
  {
   "cell_type": "code",
   "execution_count": 5,
   "outputs": [
    {
     "data": {
      "text/plain": "   year  qty\n1  2017  272\n2  2018  309\n3  2019  310",
      "text/html": "<div>\n<style scoped>\n    .dataframe tbody tr th:only-of-type {\n        vertical-align: middle;\n    }\n\n    .dataframe tbody tr th {\n        vertical-align: top;\n    }\n\n    .dataframe thead th {\n        text-align: right;\n    }\n</style>\n<table border=\"1\" class=\"dataframe\">\n  <thead>\n    <tr style=\"text-align: right;\">\n      <th></th>\n      <th>year</th>\n      <th>qty</th>\n    </tr>\n  </thead>\n  <tbody>\n    <tr>\n      <th>1</th>\n      <td>2017</td>\n      <td>272</td>\n    </tr>\n    <tr>\n      <th>2</th>\n      <td>2018</td>\n      <td>309</td>\n    </tr>\n    <tr>\n      <th>3</th>\n      <td>2019</td>\n      <td>310</td>\n    </tr>\n  </tbody>\n</table>\n</div>"
     },
     "metadata": {},
     "output_type": "display_data"
    }
   ],
   "source": [
    "small_year = [\n",
    "    [\"year\", \"qty\"],\n",
    "    [2017, 272],\n",
    "    [2018, 309],\n",
    "    [2019, 310],\n",
    "]\n",
    "\n",
    "df_small_year = pd.DataFrame(small_year, columns=small_year[0]).drop(0, axis=0)\n",
    "display(df_small_year)\n",
    "\n",
    "os.makedirs(\"data\", exist_ok=True)\n",
    "path = \"data/small_year.csv\"\n",
    "df_small_year.to_csv(path, index=None)"
   ],
   "metadata": {
    "collapsed": false
   }
  },
  {
   "cell_type": "markdown",
   "source": [
    "Generate practice data: Section5-4-7 LTV, Client table."
   ],
   "metadata": {
    "collapsed": false
   }
  },
  {
   "cell_type": "code",
   "execution_count": 4,
   "outputs": [
    {
     "data": {
      "text/plain": "  user_id   ltv\n1       1  3400\n2       2  8200\n3       3  1500\n4       4  1600\n5       5  5100\n6       6  3900",
      "text/html": "<div>\n<style scoped>\n    .dataframe tbody tr th:only-of-type {\n        vertical-align: middle;\n    }\n\n    .dataframe tbody tr th {\n        vertical-align: top;\n    }\n\n    .dataframe thead th {\n        text-align: right;\n    }\n</style>\n<table border=\"1\" class=\"dataframe\">\n  <thead>\n    <tr style=\"text-align: right;\">\n      <th></th>\n      <th>user_id</th>\n      <th>ltv</th>\n    </tr>\n  </thead>\n  <tbody>\n    <tr>\n      <th>1</th>\n      <td>1</td>\n      <td>3400</td>\n    </tr>\n    <tr>\n      <th>2</th>\n      <td>2</td>\n      <td>8200</td>\n    </tr>\n    <tr>\n      <th>3</th>\n      <td>3</td>\n      <td>1500</td>\n    </tr>\n    <tr>\n      <th>4</th>\n      <td>4</td>\n      <td>1600</td>\n    </tr>\n    <tr>\n      <th>5</th>\n      <td>5</td>\n      <td>5100</td>\n    </tr>\n    <tr>\n      <th>6</th>\n      <td>6</td>\n      <td>3900</td>\n    </tr>\n  </tbody>\n</table>\n</div>"
     },
     "execution_count": 4,
     "metadata": {},
     "output_type": "execute_result"
    }
   ],
   "source": [
    "small_ltv = [\n",
    "    [\"user_id\", \"ltv\"],\n",
    "    [1, 3400],\n",
    "    [2, 8200],\n",
    "    [3, 1500],\n",
    "    [4, 1600],\n",
    "    [5, 5100],\n",
    "    [6, 3900],\n",
    "]\n",
    "\n",
    "df_small_ltv = pd.DataFrame(small_ltv, columns=small_ltv[0]).drop(0, axis=0)\n",
    "df_small_ltv"
   ],
   "metadata": {
    "collapsed": false
   }
  },
  {
   "cell_type": "code",
   "execution_count": 7,
   "outputs": [
    {
     "data": {
      "text/plain": "  user_id registration_year first_purchase_year\n1       1               NaN                2017\n2       2              2017                2017\n3       3               NaN                2018\n4       4              2017                2018\n5       5              2018                2019\n6       6              2019                2019",
      "text/html": "<div>\n<style scoped>\n    .dataframe tbody tr th:only-of-type {\n        vertical-align: middle;\n    }\n\n    .dataframe tbody tr th {\n        vertical-align: top;\n    }\n\n    .dataframe thead th {\n        text-align: right;\n    }\n</style>\n<table border=\"1\" class=\"dataframe\">\n  <thead>\n    <tr style=\"text-align: right;\">\n      <th></th>\n      <th>user_id</th>\n      <th>registration_year</th>\n      <th>first_purchase_year</th>\n    </tr>\n  </thead>\n  <tbody>\n    <tr>\n      <th>1</th>\n      <td>1</td>\n      <td>NaN</td>\n      <td>2017</td>\n    </tr>\n    <tr>\n      <th>2</th>\n      <td>2</td>\n      <td>2017</td>\n      <td>2017</td>\n    </tr>\n    <tr>\n      <th>3</th>\n      <td>3</td>\n      <td>NaN</td>\n      <td>2018</td>\n    </tr>\n    <tr>\n      <th>4</th>\n      <td>4</td>\n      <td>2017</td>\n      <td>2018</td>\n    </tr>\n    <tr>\n      <th>5</th>\n      <td>5</td>\n      <td>2018</td>\n      <td>2019</td>\n    </tr>\n    <tr>\n      <th>6</th>\n      <td>6</td>\n      <td>2019</td>\n      <td>2019</td>\n    </tr>\n  </tbody>\n</table>\n</div>"
     },
     "execution_count": 7,
     "metadata": {},
     "output_type": "execute_result"
    }
   ],
   "source": [
    "small_customers = [\n",
    "    [\"user_id\", \"registration_year\", \"first_purchase_year\"],\n",
    "    [1, np.nan, 2017],\n",
    "    [2, 2017, 2017],\n",
    "    [3, np.nan, 2018],\n",
    "    [4, 2017, 2018],\n",
    "    [5, 2018, 2019],\n",
    "    [6, 2019, 2019],\n",
    "]\n",
    "\n",
    "df_small_customers = pd.DataFrame(small_customers, columns=small_customers[0]).drop(0, axis=0)\n",
    "df_small_customers"
   ],
   "metadata": {
    "collapsed": false
   }
  },
  {
   "cell_type": "code",
   "execution_count": 8,
   "outputs": [],
   "source": [
    "titles = [\"small_ltv\", \"small_customers\"]\n",
    "dfs = [df_small_ltv, df_small_customers]\n",
    "\n",
    "for title, df in zip(titles, dfs):\n",
    "    os.makedirs(\"data\", exist_ok=True)\n",
    "    path = f\"data/{title}.csv\"\n",
    "    df.to_csv(path, index=None)"
   ],
   "metadata": {
    "collapsed": false
   }
  },
  {
   "cell_type": "markdown",
   "source": [
    "Generate practice data: Section 5-4-10 Small Order."
   ],
   "metadata": {
    "collapsed": false
   }
  },
  {
   "cell_type": "code",
   "execution_count": 3,
   "outputs": [
    {
     "data": {
      "text/plain": "  order_id product_name\n1        1           アジ\n2        1           サバ\n3        1           タコ\n4        2           キス\n5        2           タコ\n6        3           アジ\n7        3           タコ",
      "text/html": "<div>\n<style scoped>\n    .dataframe tbody tr th:only-of-type {\n        vertical-align: middle;\n    }\n\n    .dataframe tbody tr th {\n        vertical-align: top;\n    }\n\n    .dataframe thead th {\n        text-align: right;\n    }\n</style>\n<table border=\"1\" class=\"dataframe\">\n  <thead>\n    <tr style=\"text-align: right;\">\n      <th></th>\n      <th>order_id</th>\n      <th>product_name</th>\n    </tr>\n  </thead>\n  <tbody>\n    <tr>\n      <th>1</th>\n      <td>1</td>\n      <td>アジ</td>\n    </tr>\n    <tr>\n      <th>2</th>\n      <td>1</td>\n      <td>サバ</td>\n    </tr>\n    <tr>\n      <th>3</th>\n      <td>1</td>\n      <td>タコ</td>\n    </tr>\n    <tr>\n      <th>4</th>\n      <td>2</td>\n      <td>キス</td>\n    </tr>\n    <tr>\n      <th>5</th>\n      <td>2</td>\n      <td>タコ</td>\n    </tr>\n    <tr>\n      <th>6</th>\n      <td>3</td>\n      <td>アジ</td>\n    </tr>\n    <tr>\n      <th>7</th>\n      <td>3</td>\n      <td>タコ</td>\n    </tr>\n  </tbody>\n</table>\n</div>"
     },
     "execution_count": 3,
     "metadata": {},
     "output_type": "execute_result"
    }
   ],
   "source": [
    "small_order = [\n",
    "    [\"order_id\", \"product_name\"],\n",
    "    [1, \"アジ\"],\n",
    "    [1, \"サバ\"],\n",
    "    [1, \"タコ\"],\n",
    "    [2, \"キス\"],\n",
    "    [2, \"タコ\"],\n",
    "    [3, \"アジ\"],\n",
    "    [3, \"タコ\"],\n",
    "]\n",
    "\n",
    "df_small_order = pd.DataFrame(small_order, columns=small_order[0]).drop(0, axis=0)\n",
    "df_small_order"
   ],
   "metadata": {
    "collapsed": false
   }
  },
  {
   "cell_type": "code",
   "execution_count": 4,
   "outputs": [],
   "source": [
    "os.makedirs(\"data\", exist_ok=True)\n",
    "path = \"data/small_order.csv\"\n",
    "df_small_order.to_csv(path, index=None)"
   ],
   "metadata": {
    "collapsed": false
   }
  },
  {
   "cell_type": "code",
   "execution_count": null,
   "outputs": [],
   "source": [],
   "metadata": {
    "collapsed": false
   }
  }
 ],
 "metadata": {
  "kernelspec": {
   "display_name": "Python 3",
   "language": "python",
   "name": "python3"
  },
  "language_info": {
   "codemirror_mode": {
    "name": "ipython",
    "version": 2
   },
   "file_extension": ".py",
   "mimetype": "text/x-python",
   "name": "python",
   "nbconvert_exporter": "python",
   "pygments_lexer": "ipython2",
   "version": "2.7.6"
  }
 },
 "nbformat": 4,
 "nbformat_minor": 0
}
